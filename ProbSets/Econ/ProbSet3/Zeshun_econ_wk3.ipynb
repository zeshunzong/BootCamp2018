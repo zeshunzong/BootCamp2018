{
 "cells": [
  {
   "cell_type": "code",
   "execution_count": 9,
   "metadata": {},
   "outputs": [],
   "source": [
    "import numpy as np\n",
    "import scipy\n",
    "import scipy.optimize as opt\n",
    "import scipy.linalg as la\n",
    "import matplotlib.pyplot as plt\n",
    "import time\n",
    "from matplotlib.ticker import MultipleLocator"
   ]
  },
  {
   "cell_type": "code",
   "execution_count": 10,
   "metadata": {},
   "outputs": [],
   "source": [
    "#set exogeneous varaibles\n",
    "#assume each period is 20 years\n",
    "\n",
    "beta = 0.442\n",
    "delta = 0.6415\n",
    "sigma = 3\n",
    "A = 1\n",
    "alpha = 0.35\n",
    "nvec = np.array([1,1,0.2])\n",
    "L = nvec.sum()\n",
    "SS_tol = 1e-8\n",
    "\n",
    "params = (beta, sigma, nvec, L, A, alpha, delta, SS_tol)\n",
    "\n",
    "f_params = (nvec, A, alpha, delta)\n",
    "\n"
   ]
  },
  {
   "cell_type": "code",
   "execution_count": 11,
   "metadata": {},
   "outputs": [],
   "source": [
    "def utility(consumption, params):\n",
    "    beta, sigma, nvec, L, A, alpha, delta, SS_tol = params\n",
    "    return (consumption**(1-sigma) - 1)/(1 - sigma)\n",
    "\n",
    "def u_prime(consumption, params):\n",
    "    beta, sigma, nvec, L, A, alpha, delta, SS_tol = params\n",
    "    return consumption ** (-sigma)\n",
    "\n",
    "def production(agg_capital, params):\n",
    "    beta, sigma, nvec, L, A, alpha, delta, SS_tol = params\n",
    "    return A * (agg_capital ** alpha) * (L ** (1-alpha))\n",
    "\n",
    "\n",
    "'''steady state ONLY'''\n",
    "def get_w_bar(b2bar, b3bar, params):\n",
    "    beta, sigma, nvec, L, A, alpha, delta, SS_tol = params\n",
    "    return (1-alpha) * A * ((b2bar + b3bar)/2.2)**alpha\n",
    "\n",
    "def get_r_bar(b2bar, b3bar, params):\n",
    "    beta, sigma, nvec, L, A, alpha, delta, SS_tol = params\n",
    "    return alpha * A * (2.2/(b2bar+b3bar))**(1-alpha) - delta\n",
    "\n",
    "def euler_funcs(b_vec, params):\n",
    "    b2bar = b_vec[0]\n",
    "    b3bar = b_vec[1]\n",
    "    w_bar = get_w_bar(b2bar, b3bar, params)\n",
    "    r_bar = get_r_bar(b2bar, b3bar, params)\n",
    "    result1 = u_prime(w_bar - b2bar, params) - beta * (1 + r_bar) * u_prime(w_bar + (1+r_bar) * b2bar - b3bar, params)\n",
    "    result2 = u_prime(w_bar + (1+r_bar)*b2bar - b3bar, params) - beta * (1+r_bar) * u_prime((1+r_bar)*b3bar + 0.2 * w_bar, params)\n",
    "    return [result1, result2]\n",
    "\n",
    "def get_c_bar(b2bar, b3bar, params, w_bar, r_bar):\n",
    "    beta, sigma, nvec, L, A, alpha, delta, SS_tol = params\n",
    "    c1bar = w_bar * nvec[0] - b2bar\n",
    "    c2bar = w_bar * nvec[1] + (1 + r_bar) * b2bar - b3bar\n",
    "    c3bar = w_bar * 0.2 + (1 + r_bar) * b3bar\n",
    "    return np.array([c1bar, c2bar, c3bar])\n",
    "\n"
   ]
  },
  {
   "cell_type": "code",
   "execution_count": 12,
   "metadata": {},
   "outputs": [
    {
     "name": "stdout",
     "output_type": "stream",
     "text": [
      "([True, False], [True, False, False], False)\n",
      "The first period consumption is negative.\n",
      "([False, False], [False, False, False], False)\n",
      "All good\n",
      "([False, False], [False, False, False], False)\n",
      "All good\n"
     ]
    }
   ],
   "source": [
    "def feasible(f_params, bvec_guess):\n",
    "    b2 = bvec_guess[0]\n",
    "    b3 = bvec_guess[1]\n",
    "    K_value = bvec_guess.sum()\n",
    "    \n",
    "    if K_value < 0:\n",
    "        K_cnstr = True\n",
    "    else:\n",
    "        K_cnstr = False\n",
    "    \n",
    "    r_guess = get_r_bar(b2, b3, params)\n",
    "    w_guess = get_w_bar(b2, b3, params)\n",
    "    c_guess = get_c_bar(b2, b3, params, w_guess, r_guess)\n",
    "    c_cnstr = [False, False, False]\n",
    "    for i in range(3):\n",
    "        if c_guess[i]<0:\n",
    "            c_cnstr[i] = True\n",
    "    b_cnstr = [False, False]\n",
    "    if c_cnstr[0]:\n",
    "        b_cnstr[0]=True\n",
    "    if c_cnstr[1]:\n",
    "        b_cnstr[0]=True\n",
    "        b_cnstr[1]=True\n",
    "    if c_cnstr[2]:\n",
    "        b_cnstr[1]=True\n",
    "    return b_cnstr, c_cnstr, K_cnstr\n",
    "\n",
    "bg1 = np.array([1.0, 1.2])\n",
    "print(feasible(f_params, bg1))\n",
    "print(\"The first period consumption is negative.\")\n",
    "bg2 = np.array([0.06, -0.001])\n",
    "print(feasible(f_params, bg2))\n",
    "print(\"All good\")\n",
    "bg3 = np.array([0.1, 0.1])\n",
    "print(feasible(f_params, bg3))\n",
    "print(\"All good\")"
   ]
  },
  {
   "cell_type": "code",
   "execution_count": 13,
   "metadata": {},
   "outputs": [
    {
     "name": "stdout",
     "output_type": "stream",
     "text": [
      "Steady state has been found.\n"
     ]
    },
    {
     "data": {
      "image/png": "[encoded data removed]",
      "text/plain": [
       "<matplotlib.figure.Figure at 0x131d9af048>"
      ]
     },
     "metadata": {},
     "output_type": "display_data"
    },
    {
     "name": "stdout",
     "output_type": "stream",
     "text": [
      "Savings in each period:        [0.01931253 0.0584111  0.        ]\n",
      "Total savings/capital:         0.07772362575316386\n",
      "Total production:              0.6827603788602411\n",
      "Consumption in each period:    [0.18241213 0.20961468 0.24087387]\n",
      "Total consumption:             0.6329006729395864\n",
      "Wage in each period:           0.20172465739052575\n",
      "Interest rate in each period:  2.433062339127069\n",
      "Error in euler equation:       [-1.39266376e-12  2.62900812e-12]\n",
      "Error in resource constraint:  8.326672684688674e-17\n",
      "Running time:                  0.23491699999999982\n"
     ]
    }
   ],
   "source": [
    "def get_SS(params, bvec_guess, ss_graphs):\n",
    "    start_time = time.clock()\n",
    "    \n",
    "    par = list(params)\n",
    "    SS_tol = par[-1]\n",
    "    soln = opt.root(euler_funcs, bvec_guess, args = par, tol = SS_tol)\n",
    "    if soln.success:\n",
    "        print(\"Steady state has been found.\")\n",
    "        bvec_ss = np.array(soln.x)\n",
    "        K_ss = bvec_ss.sum()\n",
    "        w_ss = get_w_bar(bvec_ss[0], bvec_ss[1], params)\n",
    "        r_ss = get_r_bar(bvec_ss[0], bvec_ss[1], params)\n",
    "        Y_ss = production(K_ss, params)\n",
    "        cvec_ss = get_c_bar(bvec_ss[0], bvec_ss[1], params, w_ss, r_ss)\n",
    "        #C_ss it total consumption\n",
    "        C_ss = cvec_ss.sum()\n",
    "        \n",
    "        #euler errors\n",
    "        euler_err1 = u_prime(w_ss - bvec_ss[0], params) - beta * (1 + r_ss) * u_prime(w_ss + (1+r_ss) * bvec_ss[0] - bvec_ss[1], params)\n",
    "        euler_err2 = u_prime(w_ss + (1+r_ss)*bvec_ss[0] - bvec_ss[1], params) - beta * (1+r_ss) * u_prime((1+r_ss)*bvec_ss[1] + 0.2 * w_ss, params)\n",
    "        EulErr_ss = np.array([euler_err1, euler_err2])\n",
    "        RCerr_ss = Y_ss - C_ss - params[6]*K_ss\n",
    "        \n",
    "        if ss_graphs:\n",
    "            age = np.arange(1, 4)\n",
    "            fig, ax = plt.subplots()\n",
    "            plt.plot(age, cvec_ss, marker='o', label='Consumption')\n",
    "            plt.plot(age, np.append([0], bvec_ss), marker='o', label='Savings')\n",
    "\n",
    "            minorLocator = MultipleLocator(1)\n",
    "            ax.xaxis.set_minor_locator(minorLocator)\n",
    "            plt.grid(b=True, which='major', color='0.65', linestyle='-')\n",
    "            plt.title('Steady-state consumption and savings')\n",
    "            plt.xlabel('Age')\n",
    "            plt.ylabel('Consumption units')\n",
    "            plt.legend()\n",
    "            plt.show()\n",
    "        \n",
    "        end_time = time.clock()\n",
    "        ss_time = end_time - start_time\n",
    "        \n",
    "        ss_output = {\n",
    "            \"b_ss\": bvec_ss, \"c_ss\": cvec_ss, \"w_ss\": w_ss, \"r_ss\": r_ss, \"K_ss\": K_ss, \"Y_ss\": Y_ss, \"C_ss\": C_ss,\n",
    "            \"Euler_ss\": EulErr_ss, \"RCerr_ss\": RCerr_ss, \"ss_time\": ss_time}\n",
    "        \n",
    "        print(\"Savings in each period:       \", np.append(bvec_ss, [0]))\n",
    "        print(\"Total savings/capital:        \", K_ss)\n",
    "        print(\"Total production:             \", Y_ss)\n",
    "        print(\"Consumption in each period:   \", cvec_ss)\n",
    "        print(\"Total consumption:            \", C_ss)\n",
    "        print(\"Wage in each period:          \", w_ss)\n",
    "        print(\"Interest rate in each period: \", r_ss)\n",
    "        print(\"Error in euler equation:      \", EulErr_ss)\n",
    "        print(\"Error in resource constraint: \", RCerr_ss)\n",
    "        print(\"Running time:                 \", ss_time)\n",
    "        return ss_output\n",
    "    else:\n",
    "        raise ValueError(\"Steady State Not Found\")\n",
    "\n",
    "ss_output = get_SS(params, [0.1,0.1], True)"
   ]
  },
  {
   "cell_type": "code",
   "execution_count": 19,
   "metadata": {},
   "outputs": [],
   "source": [
    "def get_w_t(K_t):\n",
    "    return (1-alpha) * A * (K_t / 2.2) ** alpha\n",
    "\n",
    "def get_r_t(K_t):\n",
    "    return alpha * A * (2.2/K_t) ** (1-alpha) - delta\n",
    "\n",
    "T = 50 \n",
    "epsilon = 1e-9                   \n",
    "xi = 0.3\n",
    "nvec = np.array([1, 1, 0.2])\n",
    "# tolerance for Euler errors\n",
    "eul_tol = 1e-6                \n",
    "max_iter = 10000\n",
    "#params = [beta, sigma, nvec, L, A, alpha, delta, eul_tol, max_iter]\n",
    "\n",
    "b2bar = ss_output['b_ss'][0]\n",
    "b3bar = ss_output['b_ss'][1]\n",
    "\n",
    "b_ss = np.array([b2bar, b3bar])\n",
    "b2_1 = 0.8 * b2bar\n",
    "b3_1 = 1.1 * b3bar\n",
    "bvec_guess = np.array([b2_1, b3_1])\n",
    "\n",
    "K_1 = b2_1 + b3_1\n",
    "K_bar = b2bar + b3bar\n",
    "K_path = np.linspace(K_1, K_bar, T)\n",
    "#suppose T+1 period we return to steady state\n",
    "K_path = np.append(K_path, K_bar)\n",
    "\n",
    "def get_r_and_w_paths(K_path, K_bar):\n",
    "    \n",
    "    r_path = get_r_t(K_path)\n",
    "    #r_path = np.append(r_path, get_r_t(K_bar))\n",
    "    \n",
    "    w_path = get_w_t(K_path)\n",
    "    #w_path = np.append(w_path, get_w_t(K_bar))\n",
    "    \n",
    "    return np.array([r_path, w_path])\n",
    "\n",
    "r_path, w_path = get_r_and_w_paths(K_path, K_bar)\n",
    "r_path\n",
    "\n",
    "def EulErr_b3_2(b3_2, args_32):\n",
    "    ### args_32 = [b2_1, b2_2, r_path, w_path]\n",
    "    \n",
    "    b2_1 = args_32[0]\n",
    "    b2_2 = args_32[1]\n",
    "    r_path = args_32[2]\n",
    "    w_path = args_32[3]\n",
    "    \n",
    "    mu1 = u_prime((1 + r_path[0]) * b2_1 + w_path[0] * 1 - b3_2, params)\n",
    "    mu2 = u_prime((1 + r_path[1]) * b3_2 + w_path[1] * 0.2, params)\n",
    "    \n",
    "    EulErr = mu1 - beta * (1 + r_path[1]) * mu2\n",
    "    \n",
    "    return EulErr\n",
    "\n",
    "def EulErr_two_b_s(b_vec, args_2):\n",
    "    #args_2 = [t, r_path, w_path]\n",
    "    t = args_2[0]\n",
    "    r_path = args_2[1]\n",
    "    w_path = args_2[2]\n",
    "    \n",
    "    mu2_1 = u_prime(w_path[t] * 1 - b_vec[0], params)\n",
    "    mu2_2 = u_prime((1 + r_path[t+1]) * b_vec[0] + w_path[t+1] * 1 - b_vec[1], params)\n",
    "    EulErr2 = mu2_1 - beta * (1 + r_path[t+1]) * mu2_2\n",
    "    \n",
    "    \n",
    "    mu3_1 = u_prime((1 + r_path[t+1]) * b_vec[0] + w_path[t+1] * 1 - b_vec[1], params)\n",
    "    mu3_2 = u_prime((1 + r_path[t+2]) * b_vec[1] + w_path[t+2] * 0.2, params)\n",
    "    EulErr3 = mu3_1 - beta * (1 + r_path[t+2]) * mu3_2\n",
    "    \n",
    "    return np.array([EulErr2, EulErr3])\n",
    "\n",
    "\n",
    "# Solve for b32, return error\n",
    "def b3_2_solver(b2_1, b2_2, r_path, w_path):\n",
    "    \n",
    "    args_32 = [b2_1, b2_2, r_path, w_path]\n",
    "    \n",
    "    soln = opt.root(EulErr_b3_2, 0.05, args = args_32, tol = eul_tol)\n",
    "    b3_2 = soln.x\n",
    "    b3_2_EulErrs = soln.fun\n",
    "    \n",
    "    return np.array([b3_2, b3_2_EulErrs])\n",
    "\n",
    "def two_b_solver(t, r_path, w_path):\n",
    "    args_2 = [t, r_path, w_path]\n",
    "    \n",
    "    soln = opt.root(EulErr_two_b_s, [0.05, 0.05], args = args_2, tol = eul_tol)\n",
    "    b_vec = soln.x\n",
    "    b_EulErrs = soln.fun\n",
    "    \n",
    "    return np.array([b_vec, b_EulErrs])\n",
    "\n",
    "\n",
    "\n",
    "def aggregate_errs(K_path, r_path, w_path, b_mat):\n",
    "    \n",
    "    L = 2.2\n",
    "    \n",
    "    C = L * w_path[:-1] + (1 + r_path[:-1]) * b_mat[:-1,0] - b_mat[1:,0] + (1 + r_path[:-1]) * b_mat[:-1,1] - b_mat[1:,1]\n",
    "    Y = params[4] * (K_path[:-1]**alpha) * L**(1 - alpha)\n",
    "    \n",
    "    agg_err = Y - C - K_path[1:] + (1 - delta) * K_path[:-1]\n",
    "    max_agg_err = np.abs(agg_err).max()\n",
    "    \n",
    "    return max_agg_err\n",
    "\n",
    "\n",
    "def computeEachPath(T, r_path, w_path, K_path):\n",
    "    \n",
    "    b_mat = np.zeros((T+1,2))\n",
    "    b_mat[0,:] = bvec_guess\n",
    "    \n",
    "    Euler_errs = np.zeros((T+1,2))\n",
    "    \n",
    "    b_mat[1,1], Euler_errs[1,1] = b3_2_solver(b_mat[0,0], b_mat[0,1], r_path, w_path)\n",
    "    \n",
    "    for i in range(T-1):\n",
    "        b_mat[[i+1, i+2], [0,1]], Euler_errs[[i+1, i+2], [0,1]] = two_b_solver(i, r_path, w_path)\n",
    "     \n",
    "    agg_errs = aggregate_errs(K_path, r_path, w_path, b_mat)\n",
    "    max_Euler_errs = np.abs(Euler_errs).max(axis = 0)\n",
    "    \n",
    "    \n",
    "    return b_mat, max_Euler_errs, agg_errs\n",
    "\n",
    "\n",
    "    \n",
    "    "
   ]
  },
  {
   "cell_type": "code",
   "execution_count": null,
   "metadata": {},
   "outputs": [],
   "source": []
  },
  {
   "cell_type": "code",
   "execution_count": 20,
   "metadata": {},
   "outputs": [
    {
     "name": "stdout",
     "output_type": "stream",
     "text": [
      "Max Euler error for generation 2 is:  1.0690769158827607e-08\n",
      "Max Euler error for generation 3 is:  9.627906649711804e-08\n",
      "Max constraint error is: 0.01931252950594873\n",
      "[[0.01545002 0.06425221]\n",
      " [0.02038156 0.05499108]\n",
      " [0.01862165 0.05910848]\n",
      " [0.01943457 0.05773015]\n",
      " [0.01917321 0.05844195]\n",
      " [0.01931411 0.05825579]\n",
      " [0.01927989 0.05838781]\n",
      " [0.01930648 0.05836978]\n",
      " [0.01930362 0.05839746]\n",
      " [0.01930935 0.05839864]\n",
      " [0.0193098  0.05840542]\n",
      " [0.01931124 0.05840704]\n",
      " [0.01931163 0.05840896]\n",
      " [0.01931205 0.05840971]\n",
      " [0.01931222 0.05841032]\n",
      " [0.01931236 0.05841062]\n",
      " [0.01931242 0.05841082]\n",
      " [0.01931247 0.05841093]\n",
      " [0.01931249 0.058411  ]\n",
      " [0.01931251 0.05841104]\n",
      " [0.01931252 0.05841106]\n",
      " [0.01931252 0.05841108]\n",
      " [0.01931253 0.05841108]\n",
      " [0.01931253 0.05841109]\n",
      " [0.01931253 0.05841109]\n",
      " [0.01931253 0.05841109]\n",
      " [0.01931253 0.05841109]\n",
      " [0.01931253 0.0584111 ]\n",
      " [0.01931253 0.0584111 ]\n",
      " [0.01931253 0.0584111 ]\n",
      " [0.01931253 0.0584111 ]\n",
      " [0.01931253 0.0584111 ]\n",
      " [0.01931253 0.0584111 ]\n",
      " [0.01931253 0.0584111 ]\n",
      " [0.01931253 0.0584111 ]\n",
      " [0.01931253 0.0584111 ]\n",
      " [0.01931253 0.0584111 ]\n",
      " [0.01931253 0.0584111 ]\n",
      " [0.01931253 0.0584111 ]\n",
      " [0.01931253 0.0584111 ]\n",
      " [0.01931253 0.0584111 ]\n",
      " [0.01931253 0.0584111 ]\n",
      " [0.01931253 0.0584111 ]\n",
      " [0.01931253 0.0584111 ]\n",
      " [0.01931253 0.0584111 ]\n",
      " [0.01931253 0.0584111 ]\n",
      " [0.01931253 0.0584111 ]\n",
      " [0.01931253 0.0584111 ]\n",
      " [0.01931253 0.0584111 ]\n",
      " [0.01931253 0.0584111 ]\n",
      " [0.         0.0584111 ]]\n"
     ]
    }
   ],
   "source": [
    "difference = 1\n",
    "currentItr = 0\n",
    "while (difference > epsilon) and currentItr < max_iter:\n",
    "    \n",
    "    r_path, w_path = get_r_and_w_paths(K_path, K_bar)\n",
    "    \n",
    "    b_mat, max_EulErrs, max_agg_errs = computeEachPath(T, r_path, w_path, K_path)\n",
    "    \n",
    "    K_prime = b_mat[:-1,:].sum(axis = 1)\n",
    "    K_prime = np.append(K_prime, K_bar)\n",
    "    difference = la.norm(K_prime - K_path)\n",
    "    K_path = xi * K_prime + (1 - xi) * K_path\n",
    "    currentItr += 1\n",
    "    \n",
    "    \n",
    "\n",
    "\n",
    "print('Max Euler error for generation 2 is: ', max_EulErrs[0])\n",
    "print('Max Euler error for generation 3 is: ', max_EulErrs[1])\n",
    "print('Max constraint error is:', max_agg_errs)\n",
    "\n",
    "print(b_mat)"
   ]
  },
  {
   "cell_type": "code",
   "execution_count": 21,
   "metadata": {},
   "outputs": [
    {
     "data": {
      "image/png": "[encoded data removed]",
      "text/plain": [
       "<matplotlib.figure.Figure at 0x131d8f1b70>"
      ]
     },
     "metadata": {},
     "output_type": "display_data"
    }
   ],
   "source": [
    "plt.plot(K_path, label = \"Path\")\n",
    "plt.title(\"Capital\")\n",
    "plt.plot(np.arange(0,50), [K_bar]*50, label = \"Steady State\")\n",
    "plt.legend()\n",
    "plt.show()"
   ]
  },
  {
   "cell_type": "code",
   "execution_count": 23,
   "metadata": {},
   "outputs": [
    {
     "data": {
      "image/png": "[encoded data removed]",
      "text/plain": [
       "<matplotlib.figure.Figure at 0x131d8b55c0>"
      ]
     },
     "metadata": {},
     "output_type": "display_data"
    }
   ],
   "source": [
    "plt.plot(w_path, label = \"Path\")\n",
    "plt.plot(np.arange(50),[ss_output[\"w_ss\"]]*50, label = \"Steady State\")\n",
    "plt.title(\"Wage\")\n",
    "plt.legend()\n",
    "plt.show()"
   ]
  },
  {
   "cell_type": "code",
   "execution_count": 24,
   "metadata": {},
   "outputs": [
    {
     "data": {
      "image/png": "[encoded data removed]",
      "text/plain": [
       "<matplotlib.figure.Figure at 0x131daf6828>"
      ]
     },
     "metadata": {},
     "output_type": "display_data"
    }
   ],
   "source": [
    "plt.plot(r_path, label = \"Path\")\n",
    "plt.plot(np.arange(50),[ss_output[\"r_ss\"]]*50, label = \"Steady State\")\n",
    "plt.title(\"Rate of Return\")\n",
    "plt.legend()\n",
    "plt.show()"
   ]
  },
  {
   "cell_type": "code",
   "execution_count": 25,
   "metadata": {},
   "outputs": [
    {
     "data": {
      "text/plain": [
       "(array([ 2, 10, 11, 12, 13, 14, 15, 16, 17, 18, 19, 20, 21, 22, 23, 24, 25,\n",
       "        26, 27, 28, 29, 30, 31, 32, 33, 34, 35, 36, 37, 38, 39, 40, 41, 42,\n",
       "        43, 44, 45, 46, 47, 48, 49, 50]),)"
      ]
     },
     "execution_count": 25,
     "metadata": {},
     "output_type": "execute_result"
    }
   ],
   "source": [
    "error = K_path - K_bar\n",
    "loc = np.where(np.abs(error) < 0.00001)\n",
    "loc"
   ]
  },
  {
   "cell_type": "code",
   "execution_count": 26,
   "metadata": {},
   "outputs": [
    {
     "name": "stdout",
     "output_type": "stream",
     "text": [
      "Observe that in period 2 the economy first gets within 0.00001 of the steady state.\n",
      "After 10 periods, the economy stays within this margin of error\n"
     ]
    }
   ],
   "source": [
    "print(\"Observe that in period 2 the economy first gets within 0.00001 of the steady state.\")\n",
    "print(\"After 10 periods, the economy stays within this margin of error\")"
   ]
  },
  {
   "cell_type": "code",
   "execution_count": null,
   "metadata": {},
   "outputs": [],
   "source": []
  },
  {
   "cell_type": "code",
   "execution_count": null,
   "metadata": {},
   "outputs": [],
   "source": []
  }
 ],
 "metadata": {
  "kernelspec": {
   "display_name": "Python 3",
   "language": "python",
   "name": "python3"
  },
  "language_info": {
   "codemirror_mode": {
    "name": "ipython",
    "version": 3
   },
   "file_extension": ".py",
   "mimetype": "text/x-python",
   "name": "python",
   "nbconvert_exporter": "python",
   "pygments_lexer": "ipython3",
   "version": "3.6.4"
  }
 },
 "nbformat": 4,
 "nbformat_minor": 2
}
