{
 "cells": [
  {
   "cell_type": "markdown",
   "metadata": {},
   "source": [
    "Problem 1\n",
    "\n",
    "Since we know that $K_{t+1}$ is of the form $Ae^{z_t}K^\\alpha_t,$ by substituting into the Euler equation, we get $A = \\alpha \\beta.$ Hence we have $K_{t+1} = \\alpha \\beta e^{z_t}K^\\alpha_t.$"
   ]
  },
  {
   "cell_type": "code",
   "execution_count": null,
   "metadata": {},
   "outputs": [],
   "source": []
  },
  {
   "cell_type": "markdown",
   "metadata": {},
   "source": [
    "Problem 2\n",
    "\n",
    "We have three euqations from households:\n",
    "\\begin{equation}\n",
    "c_t = (1-\\tau)[w_t l_t + (r_t - \\delta) k_t] + k_t + T_t - k_{t+1} \\\\\n",
    "\\frac{a}{1-l_t} = \\frac{w_t(1-\\tau)}{c_t} \\\\\n",
    "\\frac{1}{c_t} = \\beta \\mathbb{E}\\big[ \\frac{1}{c_{t+1}}[(r_{t+1}-\\delta)(1-\\tau) +1] | z_t \\big].\n",
    "\\end{equation}\n",
    "Two equations from firms:\n",
    "\\begin{equation}\n",
    "r_t = \\alpha e^{z_t} k_t^{\\alpha - 1} l_t^{1-\\alpha} \\\\\n",
    "w_t = (1 - \\alpha) e^{z_t} k_t^\\alpha l_t^{-\\alpha}.\n",
    "\\end{equation}\n",
    "One equation from the government:\n",
    "$$\\tau[w_tl_t+(r_t - \\delta)k_t] = T_t.$$\n",
    "And one law of motion:\n",
    "$$z_t = (1-\\rho_z)\\bar{z} + \\rho_z z_{t-1} + \\epsilon_t^z, \\text{ where }\\epsilon_t^z \\text{ follows } N(0, \\sigma_z^2).$$\n",
    "No because there are now more than one state variable"
   ]
  },
  {
   "cell_type": "code",
   "execution_count": null,
   "metadata": {},
   "outputs": [],
   "source": []
  },
  {
   "cell_type": "markdown",
   "metadata": {},
   "source": [
    "Problem 3\n",
    "\n",
    "We have three euqations from households:\n",
    "\\begin{equation}\n",
    "c_t = (1-\\tau)[w_t l_t + (r_t - \\delta) k_t] + k_t + T_t - k_{t+1} \\\\\n",
    "\\frac{a}{1-l_t} = w_t(1-\\tau) c_t^{-\\gamma}\\\\\n",
    "c_t^{-\\gamma} = \\beta \\mathbb{E}\\big[ c_{t+1}^{-\\gamma}[(r_{t+1}-\\delta)(1-\\tau) +1] | z_t \\big].\n",
    "\\end{equation}\n",
    "Two equations from firms:\n",
    "\\begin{equation}\n",
    "r_t = \\alpha e^{z_t} k_t^{\\alpha - 1} l_t^{1-\\alpha} \\\\\n",
    "w_t = (1 - \\alpha) e^{z_t} k_t^\\alpha l_t^{-\\alpha}.\n",
    "\\end{equation}\n",
    "One equation from the government:\n",
    "$$\\tau[w_tl_t+(r_t - \\delta)k_t] = T_t.$$\n",
    "And one law of motion:\n",
    "$$z_t = (1-\\rho_z)\\bar{z} + \\rho_z z_{t-1} + \\epsilon_t^z, \\text{ where }\\epsilon_t^z \\text{ follows } N(0, \\sigma_z^2).$$\n"
   ]
  },
  {
   "cell_type": "code",
   "execution_count": null,
   "metadata": {},
   "outputs": [],
   "source": []
  },
  {
   "cell_type": "markdown",
   "metadata": {},
   "source": [
    "Problem 4\n",
    "\n",
    "We have three euqations from households:\n",
    "\\begin{equation}\n",
    "c_t = (1-\\tau)[w_t l_t + (r_t - \\delta) k_t] + k_t + T_t - k_{t+1} \\\\\n",
    "-a (1-l_t)^{-\\xi} = w_t(1-\\tau) c_t^{-\\gamma}\\\\\n",
    "c_t^{-\\gamma} = \\beta \\mathbb{E}\\big[ c_{t+1}^{-\\gamma}[(r_{t+1}-\\delta)(1-\\tau) +1] | z_t \\big].\n",
    "\\end{equation}\n",
    "Two equations from firms:\n",
    "\\begin{equation}\n",
    "r_t = e^z_t [\\alpha k^{\\eta}_t +(1-\\alpha)l^{\\eta}_t]^{\\frac{1}{\\eta} - 1} \\alpha k_t^{\\eta -1} \\\\\n",
    "w_t = e^z_t [\\alpha k^{\\eta}_t +(1-\\alpha)l^{\\eta}_t]^{\\frac{1}{\\eta} - 1} (1-\\alpha) l_t^{\\eta -1}.\n",
    "\\end{equation}\n",
    "One equation from the government:\n",
    "$$\\tau[w_tl_t+(r_t - \\delta)k_t] = T_t.$$\n",
    "And one law of motion:\n",
    "$$z_t = (1-\\rho_z)\\bar{z} + \\rho_z z_{t-1} + \\epsilon_t^z, \\text{ where }\\epsilon_t^z \\text{ follows } N(0, \\sigma_z^2).$$"
   ]
  },
  {
   "cell_type": "code",
   "execution_count": null,
   "metadata": {},
   "outputs": [],
   "source": []
  },
  {
   "cell_type": "markdown",
   "metadata": {},
   "source": [
    "Problem 5\n",
    "\n",
    "We have three euqations from households:\n",
    "\\begin{equation}\n",
    "c_t = (1-\\tau)[w_t l_t + (r_t - \\delta) k_t] + k_t + T_t - k_{t+1} \\\\\n",
    "w_t(1-\\tau) c_t^{-\\gamma} = 0\\\\\n",
    "c_t^{-\\gamma} = \\beta \\mathbb{E}\\big[ c_{t+1}^{-\\gamma}[(r_{t+1}-\\delta)(1-\\tau) +1] | z_t \\big].\n",
    "\\end{equation}\n",
    "Two equations from firms:\n",
    "\\begin{equation}\n",
    "r_t = \\alpha e^{\\alpha z_t} k_t^{\\alpha - 1} l_t^{1-\\alpha} \\\\\n",
    "w_t = (1 - \\alpha) e^{\\alpha z_t} k_t^\\alpha l_t^{- \\alpha}.\n",
    "\\end{equation}\n",
    "One equation from the government:\n",
    "$$\\tau[w_tl_t+(r_t - \\delta)k_t] = T_t.$$\n",
    "And one law of motion:\n",
    "$$z_t = (1-\\rho_z)\\bar{z} + \\rho_z z_{t-1} + \\epsilon_t^z, \\text{ where }\\epsilon_t^z \\text{ follows } N(0, \\sigma_z^2).$$\n",
    "\n"
   ]
  },
  {
   "cell_type": "markdown",
   "metadata": {},
   "source": [
    "Now assume $l_t = 1.$\n",
    "\n",
    "$$c^{-\\gamma} = \\beta c^{-\\gamma}[(r-\\delta)(1-\\tau)+1] $$\n",
    "$$r = \\alpha e^{\\alpha z} k^{\\alpha - 1} $$\n",
    "$$w = (1 - \\alpha) e^{\\alpha z} k^\\alpha $$\n",
    "$$\\tau[w+(r - \\delta)k] = T$$\n",
    "\n",
    "We have $$ 1 = \\beta [(\\alpha e^{\\alpha z} k^{\\alpha - 1}-\\delta)(1-\\tau)+1]$$\n",
    "Hence $$ k = [\\frac{\\beta(1-\\tau)\\alpha}{(1-\\beta) + \\delta\\beta(1-\\tau)}]^{\\frac{1}{1-\\alpha}}.$$"
   ]
  },
  {
   "cell_type": "code",
   "execution_count": 8,
   "metadata": {},
   "outputs": [
    {
     "name": "stdout",
     "output_type": "stream",
     "text": [
      "Algebraically steady state k:  7.2874979506929884\n",
      "Numerically steady state k:  7.287497950692982\n"
     ]
    }
   ],
   "source": [
    "import math\n",
    "import numpy as np\n",
    "import scipy.optimize as opt\n",
    "gamma = 2.5\n",
    "beta = 0.98\n",
    "alpha = 0.4\n",
    "delta = 0.1\n",
    "z_bar = 0\n",
    "tau = 0.05\n",
    "\n",
    "#algebraic solutions\n",
    "k = (beta*(1 - tau)*alpha/((1-beta) + delta*beta*(1-tau))) ** (1/(1-alpha))\n",
    "print(\"Algebraically steady state k: \", k)\n",
    "\n",
    "def w_of_k(k):\n",
    "    return (1-alpha) * np.exp(alpha * z_bar) * k ** alpha\n",
    "\n",
    "def r_of_k(k):\n",
    "    return alpha * np.exp(alpha * z_bar) * k ** (alpha - 1)\n",
    "\n",
    "def numerically_k():\n",
    "    def euler(k):\n",
    "        return beta * ((alpha*np.exp(alpha*z_bar)*k**(alpha-1) - delta)*(1-tau)+1)-1\n",
    "    soln = opt.root(euler, 1)\n",
    "    return soln.x\n",
    "    \n",
    "k_numer = numerically_k()[0]\n",
    "print(\"Numerically steady state k: \", k_numer)\n"
   ]
  },
  {
   "cell_type": "code",
   "execution_count": null,
   "metadata": {},
   "outputs": [],
   "source": []
  },
  {
   "cell_type": "markdown",
   "metadata": {},
   "source": [
    "Problem 6\n",
    "\n",
    "\n",
    "We have three euqations from households:\n",
    "\\begin{equation}\n",
    "c_t = (1-\\tau)[w_t l_t + (r_t - \\delta) k_t] + k_t + T_t - k_{t+1} \\\\\n",
    "-a (1-l_t)^{-\\xi} = w_t(1-\\tau) c_t^{-\\gamma}\\\\\n",
    "c_t^{-\\gamma} = \\beta \\mathbb{E}\\big[ c_{t+1}^{-\\gamma}[(r_{t+1}-\\delta)(1-\\tau) +1] | z_t \\big].\n",
    "\\end{equation}\n",
    "\n",
    "Two equations from firms:\n",
    "\\begin{equation}\n",
    "r_t = \\alpha e^{\\alpha z_t} k_t^{\\alpha - 1} l_t^{1-\\alpha} \\\\\n",
    "w_t = (1 - \\alpha) e^{\\alpha z_t} k_t^\\alpha l_t^{- \\alpha}.\n",
    "\\end{equation}\n",
    "One equation from the government:\n",
    "$$\\tau[w_tl_t+(r_t - \\delta)k_t] = T_t.$$\n",
    "And one law of motion:\n",
    "$$z_t = (1-\\rho_z)\\bar{z} + \\rho_z z_{t-1} + \\epsilon_t^z, \\text{ where }\\epsilon_t^z \\text{ follows } N(0, \\sigma_z^2).$$\n",
    "\n",
    "Steady state version can be obtained by dropping the subscript $t.$"
   ]
  },
  {
   "cell_type": "code",
   "execution_count": 42,
   "metadata": {},
   "outputs": [
    {
     "name": "stdout",
     "output_type": "stream",
     "text": [
      "Steady state investment is  4.225229026783622\n",
      "Steady state leisure is  0.5797914531670049\n"
     ]
    }
   ],
   "source": [
    "a = 0.5\n",
    "xi = 1.5\n",
    "\n",
    "\n",
    "gamma = 2.5\n",
    "beta = 0.98\n",
    "alpha = 0.40\n",
    "a = 0.5\n",
    "delta = 0.10\n",
    "tau = 0.05\n",
    "a=0.5\n",
    "xi=1.5\n",
    "\n",
    "#now we have two varaibles, k and l\n",
    "#write all jump variables as function of k and l\n",
    "def r_of_kl(vec):\n",
    "    return alpha * (vec[1]/vec[0]) ** (1 - alpha) * (np.exp(0)) ** (1 - alpha)\n",
    "\n",
    "def w_of_kl(vec):\n",
    "    return (1 - alpha) * (vec[0]/vec[1]) ** alpha * (np.exp(0)) ** (1 - alpha)\n",
    "\n",
    "#def T_of_kl(k, l):\n",
    "#    return tau * (w_of_kl(k,l)*l + (r_of_kl(k,l) - delta) * k)\n",
    "\n",
    "def c_of_kl(vec, r, w):\n",
    "    return w * vec[1] + (r - delta) * vec[0]\n",
    "\n",
    "def solve_kl():\n",
    "    def euler_kl(vec):\n",
    "        w = w_of_kl(vec)\n",
    "        r = r_of_kl(vec)\n",
    "        c = c_of_kl(vec, r, w)\n",
    "        eq1 = c ** (-gamma) - beta * (c ** (-gamma)* ((1 - tau) * (r - delta) + 1))\n",
    "        eq2 = a * (1 - vec[1]) ** (-1*xi) - c ** (-gamma) * w * (1 - tau)  \n",
    "        #eq1 = w_of_kl(k, l) * (1-tau) * c_of_kl(k,l)**(-gamma) + a*(1-l)**(-xi)\n",
    "        #eq2 = beta*((r_of_kl(k,l)-delta)*(1-delta)+1) - 1\n",
    "        eqs = np.array([eq1, eq2])\n",
    "        return eqs\n",
    "    soln = opt.root(euler_kl, np.array([1,0.8]))\n",
    "    return soln.x\n",
    "\n",
    "print(\"Steady state investment is \", solve_kl()[0])\n",
    "print(\"Steady state leisure is \", solve_kl()[1])      \n"
   ]
  },
  {
   "cell_type": "code",
   "execution_count": 38,
   "metadata": {},
   "outputs": [
    {
     "name": "stdout",
     "output_type": "stream",
     "text": [
      "steady state k is: 4.225229026915344\n",
      "steady state l is:  0.5797914531683577\n"
     ]
    }
   ],
   "source": [
    "#solve problem 6 numerically \n",
    "def get_c(w, r, vec):\n",
    "    return w * vec[1] + (r - delta) * vec[0]\n",
    "\n",
    "def get_r(vec):\n",
    "    return alpha * (vec[1]/vec[0]) ** (1 - alpha) * (np.exp(0)) ** (1 - alpha)\n",
    "\n",
    "def get_w(vec):\n",
    "    return (1 - alpha) * (vec[0]/vec[1]) ** alpha * (np.exp(0)) ** (1 - alpha)\n",
    "\n",
    "def euler_eq(vec):\n",
    "    w = get_w(vec)\n",
    "    r = get_r(vec)\n",
    "    c = get_cbar(w, r, vec)\n",
    "    eq1 = c ** (-gamma) - beta * (c ** (-gamma)* ((1 - tau) * (r - delta) + 1))\n",
    "    eq2 = a * (1 - vec[1]) ** (-1*xi) - c ** (-gamma) * w * (1 - tau)  \n",
    "    eqs = np.array([eq1, eq2])\n",
    "    return eqs \n",
    "    \n",
    "guess=np.array([1, 0.9])\n",
    "result = opt.root(euler_6, [1,0.9],tol=1e-8)\n",
    "k,l=result.x\n",
    "print(\"steady state k is:\",k)\n",
    "print(\"steady state l is: \",l)\n"
   ]
  },
  {
   "cell_type": "code",
   "execution_count": null,
   "metadata": {},
   "outputs": [],
   "source": []
  }
 ],
 "metadata": {
  "kernelspec": {
   "display_name": "Python 3",
   "language": "python",
   "name": "python3"
  },
  "language_info": {
   "codemirror_mode": {
    "name": "ipython",
    "version": 3
   },
   "file_extension": ".py",
   "mimetype": "text/x-python",
   "name": "python",
   "nbconvert_exporter": "python",
   "pygments_lexer": "ipython3",
   "version": "3.6.4"
  }
 },
 "nbformat": 4,
 "nbformat_minor": 2
}
