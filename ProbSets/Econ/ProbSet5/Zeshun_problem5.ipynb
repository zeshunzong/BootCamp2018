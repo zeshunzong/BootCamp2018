{
 "cells": [
  {
   "cell_type": "code",
   "execution_count": 106,
   "metadata": {},
   "outputs": [],
   "source": [
    "import pandas as pd\n",
    "import numpy as np\n",
    "import matplotlib.pyplot as plt\n",
    "import scipy.optimize as opt\n",
    "import scipy\n",
    "from scipy.stats import norm\n",
    "from scipy.stats import uniform"
   ]
  },
  {
   "cell_type": "code",
   "execution_count": 107,
   "metadata": {},
   "outputs": [],
   "source": [
    "#read data from \"MacroSeries.txt\"\n",
    "\n",
    "macro_data = pd.read_csv(\"MacroSeries.txt\", header = None)\n",
    "macro_data.columns = [\"c\", \"k\", \"w\", \"r\", \"y\"]\n",
    "c_vec = np.array(macro_data[\"c\"])\n",
    "k_vec = np.array(macro_data[\"k\"])\n",
    "w_vec = np.array(macro_data[\"w\"])\n",
    "r_vec = np.array(macro_data[\"r\"])\n",
    "y_vec = np.array(macro_data[\"y\"])"
   ]
  },
  {
   "cell_type": "code",
   "execution_count": 108,
   "metadata": {},
   "outputs": [],
   "source": [
    "def take_uniform_draws(S = 1000, T=100):\n",
    "    m = uniform.rvs(0, 1, size=(T, S))\n",
    "    return m\n",
    "\n",
    "uniforms = take_uniform_draws()\n",
    "#uniforms"
   ]
  },
  {
   "cell_type": "code",
   "execution_count": 109,
   "metadata": {},
   "outputs": [],
   "source": [
    "# draw e_t samples from given param_guess\n",
    "def draw_et(uniforms, param_vec, beta = 0.99, S = 1000, T = 100):\n",
    "    #epsilon is normally distributed with mean 0, var = sigma^2\n",
    "    alpha, rho, mu, sigma = param_vec\n",
    "    eps_mat = norm.ppf(uniforms, 0, sigma)\n",
    "    #return a matrix of epsilon draws\n",
    "    return eps_mat\n",
    "\n",
    "\n",
    "param_vec = (0.8,0.3,6,0.4)\n",
    "et_draws = draw_et(uniforms, param_vec)\n",
    "#et_draws"
   ]
  },
  {
   "cell_type": "code",
   "execution_count": 110,
   "metadata": {},
   "outputs": [],
   "source": [
    "def get_zt_draws(et_draws, param_vec, beta = 0.99, S = 1000, T = 100):\n",
    "    alpha, rho, mu, sigma = param_vec\n",
    "    #T = 100, ith row is the eps in t = i\n",
    "    #z_0 = mu\n",
    "    z_draws = np.zeros((T, S))\n",
    "    z_draws[0,:] = mu\n",
    "    for i in range(1, T):\n",
    "        z_draws[i, :] = rho * z_draws[i-1, :] + (1-rho)*mu + et_draws[i-1, :]\n",
    "    #z_draws = z_draws[1:, :]\n",
    "    return z_draws\n",
    "\n",
    "z_draws = get_zt_draws(et_draws, param_vec)\n",
    "#z_draws"
   ]
  },
  {
   "cell_type": "code",
   "execution_count": 111,
   "metadata": {},
   "outputs": [],
   "source": [
    "def get_kt_draws(zt_draws, param_vec, beta = 0.99, S = 1000, T = 100):\n",
    "    alpha, rho, mu, sigma = param_vec\n",
    "    k_draws = np.zeros((T, S))\n",
    "    #set k1 to the first observation\n",
    "    k_draws[0, :] = k_vec[0]\n",
    "    for i in range(1, T):\n",
    "        k_draws[i, :] = alpha * beta * np.exp(zt_draws[i-1, :]) * (k_draws[i-1, :] ** alpha)\n",
    "    return k_draws\n",
    "\n",
    "k_draws = get_kt_draws(z_draws, param_vec)\n",
    "#k_draws\n"
   ]
  },
  {
   "cell_type": "code",
   "execution_count": 112,
   "metadata": {},
   "outputs": [],
   "source": [
    "def get_wt_draws(zt_draws, kt_draws, param_vec, beta = 0.99, S = 1000, T = 100):\n",
    "    alpha, rho, mu, sigma = param_vec\n",
    "    \n",
    "    w_draws = np.zeros((T, S))\n",
    "    for i in range(T):\n",
    "        w_draws[i, :] = (1-alpha)*np.exp(zt_draws[i,:]) * (kt_draws[i,:]**alpha)\n",
    "        \n",
    "    w_prime = (1-alpha) * np.exp(zt_draws) * (kt_draws ** alpha)\n",
    "    #print((1-alpha)*np.exp(zt_draws[0,0])*kt_draws[0,0]**alpha)\n",
    "    return w_draws\n",
    "    \n",
    "def get_rt_draws(zt_draws, kt_draws, param_vec, beta = 0.99, S = 1000, T = 100):\n",
    "    alpha, rho, mu, sigma = param_vec\n",
    "    \n",
    "    r_draws = np.zeros((T,S))\n",
    "    \n",
    "  \n",
    "    \n",
    "    for i in range(T):\n",
    "        r_draws[i, :] = alpha * np.exp(zt_draws[i,:]) * (kt_draws[i,:]**(alpha-1))\n",
    "    return r_draws\n",
    "\n",
    "\n",
    "r_draws = get_rt_draws(z_draws, k_draws, param_vec)\n",
    "w_draws = get_wt_draws(z_draws, k_draws, param_vec)\n",
    "#r_draws"
   ]
  },
  {
   "cell_type": "code",
   "execution_count": 113,
   "metadata": {},
   "outputs": [],
   "source": [
    "#c_t = w_t + r_t k_t - k_t+1\n",
    "def get_ct_draws(wt_draws, rt_draws, kt_draws, param_vec, beta = 0.99, S = 1000, T = 100):\n",
    "    alpha, rho, mu, sigma = param_vec\n",
    "    \n",
    "    #since we don't have k_T+1, simply assume that k_T+1= k_T\n",
    "    ktp1 = kt_draws[-1, :]\n",
    "    k_temp = np.vstack((kt_draws, ktp1))\n",
    "    #print(k_temp)\n",
    "    c_draws = np.zeros((T,S))\n",
    "    for i in range(T):\n",
    "        c_draws[i,:] = wt_draws[i,:] + rt_draws[i,:] * k_temp[i,:] - k_temp[i+1, :]\n",
    "    return c_draws\n",
    "\n",
    "#get_ct_draws(w_draws, r_draws, k_draws, param_vec)\n"
   ]
  },
  {
   "cell_type": "code",
   "execution_count": 114,
   "metadata": {},
   "outputs": [],
   "source": [
    "def get_yt_draws(zt_draws, kt_draws, param_vec, beta = 0.99, S = 1000, T = 100):\n",
    "    alpha, rho, mu, sigma = param_vec\n",
    "    \n",
    "    #y_draws = np.zeros((T,S))\n",
    "    y_draws = np.exp(zt_draws) * (kt_draws**alpha)\n",
    "    \n",
    "    return y_draws\n",
    "\n",
    "y_draws = get_yt_draws(z_draws, k_draws, param_vec)\n",
    "#y_draws"
   ]
  },
  {
   "cell_type": "code",
   "execution_count": 115,
   "metadata": {},
   "outputs": [],
   "source": [
    "\n",
    "#first we need data moments\n",
    "\n",
    "data_mean_c = c_vec.mean()\n",
    "data_mean_k = k_vec.mean()\n",
    "data_mean_cy = (c_vec/y_vec).mean()\n",
    "data_var_y = y_vec.var()\n",
    "data_corr_c = np.corrcoef(c_vec[:-1], c_vec[1:])[0, 1]\n",
    "data_corr_ck = np.corrcoef(c_vec, k_vec)[0, 1]\n"
   ]
  },
  {
   "cell_type": "code",
   "execution_count": 116,
   "metadata": {},
   "outputs": [
    {
     "data": {
      "text/plain": [
       "array([4.29570593e+10, 4.15794901e+12, 7.24531757e-03, 3.67965881e+25,\n",
       "       3.76623812e-01, 3.78659556e-01])"
      ]
     },
     "execution_count": 116,
     "metadata": {},
     "output_type": "execute_result"
    }
   ],
   "source": [
    "def get_sim_model_moments(param_vec, uniforms, S = 1000):\n",
    "    et_draws = draw_et(uniforms, param_vec)\n",
    "    z_draws = get_zt_draws(et_draws, param_vec)\n",
    "    k_draws = get_kt_draws(z_draws, param_vec)\n",
    "    r_draws = get_rt_draws(z_draws, k_draws, param_vec)\n",
    "    w_draws = get_rt_draws(z_draws, k_draws, param_vec)\n",
    "    c_draws = get_ct_draws(w_draws, r_draws, k_draws, param_vec)\n",
    "    y_draws = get_yt_draws(z_draws, k_draws, param_vec)\n",
    "    \n",
    "    #print(c_draws.mean(axis=0))\n",
    "    sim_mean_c = c_draws.mean(axis=0).mean()\n",
    "    \n",
    "    sim_mean_l = k_draws.mean(axis=0).mean()\n",
    "    \n",
    "    sim_mean_cy = (c_draws / y_draws).mean(axis=0).mean()\n",
    "    \n",
    "    sim_var_y = y_draws.var(axis=0).mean()\n",
    "    \n",
    "    temp_c = []\n",
    "    for i in range(S):\n",
    "        temp_c.append(np.corrcoef(c_draws[:-1, i], c_draws[1:, i])[0, 1])\n",
    "    \n",
    "    sim_corr_c = np.array(temp_c).mean()\n",
    "    \n",
    "    temp_ck = []\n",
    "    for i in range(S):\n",
    "        temp_ck.append(np.corrcoef(c_draws[:,i], k_draws[:, i])[0,1])\n",
    "        \n",
    "    sim_corr_ck = np.array(temp_ck).mean()\n",
    "    \n",
    "    return np.array([sim_mean_c, sim_mean_l, sim_mean_cy, sim_var_y, sim_corr_c, sim_corr_ck])\n",
    "\n",
    "get_sim_model_moments(param_vec, uniforms)\n",
    "    \n"
   ]
  },
  {
   "cell_type": "code",
   "execution_count": 123,
   "metadata": {},
   "outputs": [
    {
     "name": "stderr",
     "output_type": "stream",
     "text": [
      "/Users/Zeshun/anaconda3/lib/python3.6/site-packages/ipykernel_launcher.py:7: RuntimeWarning: overflow encountered in multiply\n",
      "  import sys\n",
      "/Users/Zeshun/anaconda3/lib/python3.6/site-packages/ipykernel_launcher.py:11: RuntimeWarning: overflow encountered in multiply\n",
      "  # This is added back by InteractiveShellApp.init_path()\n",
      "/Users/Zeshun/anaconda3/lib/python3.6/site-packages/ipykernel_launcher.py:11: RuntimeWarning: invalid value encountered in subtract\n",
      "  # This is added back by InteractiveShellApp.init_path()\n",
      "/Users/Zeshun/anaconda3/lib/python3.6/site-packages/ipykernel_launcher.py:11: RuntimeWarning: invalid value encountered in multiply\n",
      "  # This is added back by InteractiveShellApp.init_path()\n",
      "/Users/Zeshun/anaconda3/lib/python3.6/site-packages/ipykernel_launcher.py:5: RuntimeWarning: overflow encountered in multiply\n",
      "  \"\"\"\n",
      "/Users/Zeshun/anaconda3/lib/python3.6/site-packages/ipykernel_launcher.py:15: RuntimeWarning: invalid value encountered in true_divide\n",
      "  from ipykernel import kernelapp as app\n",
      "/Users/Zeshun/anaconda3/lib/python3.6/site-packages/numpy/core/_methods.py:112: RuntimeWarning: invalid value encountered in subtract\n",
      "  x = asanyarray(arr - arrmean)\n",
      "/Users/Zeshun/anaconda3/lib/python3.6/site-packages/numpy/lib/function_base.py:3103: RuntimeWarning: invalid value encountered in subtract\n",
      "  X -= avg[:, None]\n",
      "/Users/Zeshun/anaconda3/lib/python3.6/site-packages/scipy/optimize/optimize.py:663: RuntimeWarning: invalid value encountered in double_scalars\n",
      "  grad[k] = (f(*((xk + d,) + args)) - f0) / d[k]\n"
     ]
    },
    {
     "data": {
      "text/plain": [
       "      fun: 9.325769890607724\n",
       " hess_inv: <4x4 LbfgsInvHessProduct with dtype=float64>\n",
       "      jac: array([-5.06277784e+01, -4.02757365e+00, -2.23435496e-02,  4.00493393e+01])\n",
       "  message: b'CONVERGENCE: REL_REDUCTION_OF_F_<=_FACTR*EPSMCH'\n",
       "     nfev: 205\n",
       "      nit: 6\n",
       "   status: 0\n",
       "  success: True\n",
       "        x: array([ 0.01, -0.99,  5.  ,  0.01])"
      ]
     },
     "execution_count": 123,
     "metadata": {},
     "output_type": "execute_result"
    }
   ],
   "source": [
    "def get_err_vec(param_vec, uniforms):\n",
    "    data_moments = np.array([data_mean_c, data_mean_k, data_mean_cy, data_var_y, data_corr_c, data_corr_ck])\n",
    "    sim_model_moments = get_sim_model_moments(param_vec, uniforms)\n",
    "    \n",
    "    return (sim_model_moments - data_moments) / data_moments\n",
    "\n",
    "def crit(param_vec, args):\n",
    "    uniforms, W = args\n",
    "    err_vec = get_err_vec(param_vec, uniforms)\n",
    "    return err_vec.T @ W @ err_vec\n",
    "\n",
    "argum = [uniforms, np.eye(6)]\n",
    "param_vec = (0.9,0.6,10,0.8)\n",
    "crit(param_vec, argum)\n",
    "\n",
    "soln = opt.minimize(crit, param_vec, args = argum, bounds = ((0.01, 0.99), (-0.99, 0.99), (5, 14), (0.01, 1.1)), \n",
    "                    method = 'L-BFGS-B', options={'eps': 1e-3})\n",
    "soln\n"
   ]
  },
  {
   "cell_type": "code",
   "execution_count": null,
   "metadata": {},
   "outputs": [],
   "source": []
  },
  {
   "cell_type": "code",
   "execution_count": null,
   "metadata": {},
   "outputs": [],
   "source": []
  },
  {
   "cell_type": "code",
   "execution_count": null,
   "metadata": {},
   "outputs": [],
   "source": []
  },
  {
   "cell_type": "code",
   "execution_count": null,
   "metadata": {},
   "outputs": [],
   "source": []
  },
  {
   "cell_type": "code",
   "execution_count": null,
   "metadata": {},
   "outputs": [],
   "source": []
  }
 ],
 "metadata": {
  "kernelspec": {
   "display_name": "Python 3",
   "language": "python",
   "name": "python3"
  },
  "language_info": {
   "codemirror_mode": {
    "name": "ipython",
    "version": 3
   },
   "file_extension": ".py",
   "mimetype": "text/x-python",
   "name": "python",
   "nbconvert_exporter": "python",
   "pygments_lexer": "ipython3",
   "version": "3.6.4"
  }
 },
 "nbformat": 4,
 "nbformat_minor": 2
}
