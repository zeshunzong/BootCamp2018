{
 "cells": [
  {
   "cell_type": "code",
   "execution_count": 21,
   "metadata": {},
   "outputs": [],
   "source": [
    "import pandas as pd\n",
    "import numpy as np\n",
    "import matplotlib.pyplot as plt\n",
    "import scipy.optimize as opt\n",
    "import scipy\n",
    "from scipy.stats import norm"
   ]
  },
  {
   "cell_type": "code",
   "execution_count": 18,
   "metadata": {},
   "outputs": [],
   "source": [
    "#read data from \"MacroSeries.txt\"\n",
    "\n",
    "macro_data = pd.read_csv(\"MacroSeries.txt\", header = None)\n",
    "macro_data.columns = [\"c\", \"k\", \"w\", \"r\", \"y\"]\n",
    "c_vec = np.array(macro_data[\"c\"])\n",
    "k_vec = np.array(macro_data[\"k\"])\n",
    "w_vec = np.array(macro_data[\"w\"])\n",
    "r_vec = np.array(macro_data[\"r\"])\n",
    "y_vec = np.array(macro_data[\"y\"])\n"
   ]
  },
  {
   "cell_type": "markdown",
   "metadata": {},
   "source": [
    "The model is given by \n",
    "$$c_t^{-1} - \\beta \\mathbb{E}[r_{t+1} (c_{t+1})^{-1}] = 0$$\n",
    "$$c_t + k_{t+1} - w_t - r_t k_t = 0$$\n",
    "$$w_t - (1-\\alpha)e^{z_t} (k_t)^\\alpha = 0$$\n",
    "$$r_t - \\alpha e^{z_t} (k_t) ^{\\alpha - 1} = 0$$\n",
    "$$z_t = \\rho z_{t-1} + (1-\\rho)\\mu + \\epsilon_t $$\n",
    "$$y_t = e ^{z_t} (k_t)^\\alpha $$\n",
    "\n"
   ]
  },
  {
   "cell_type": "code",
   "execution_count": 12,
   "metadata": {},
   "outputs": [],
   "source": [
    "#assume beta = 0.99"
   ]
  },
  {
   "cell_type": "markdown",
   "metadata": {},
   "source": [
    "Observe that from (3), $$(1-\\alpha)e^{z_t}(k_t)^\\alpha=w_t$$\n",
    "$$e^{z_t} = \\frac{w_t}{(1-\\alpha)(k_t)^\\alpha}$$\n",
    "$$z_t = \\ln\\{\\frac{w_t}{(1-\\alpha)(k_t)^\\alpha}\\} = \\ln w_t - \\ln (1-\\alpha) - \\alpha \\ln k_t$$\n",
    "$$z_t \\in N(\\rho z_{t-1} + (1-\\rho) \\mu, \\sigma^2).$$ Use mle to estimate $\\alpha, \\rho, \\mu, \\sigma$"
   ]
  },
  {
   "cell_type": "code",
   "execution_count": 27,
   "metadata": {},
   "outputs": [
    {
     "data": {
      "text/plain": [
       "      fun: -95.55298518128292\n",
       " hess_inv: <4x4 LbfgsInvHessProduct with dtype=float64>\n",
       "      jac: array([ 0.00996749,  0.00024869,  0.00104734, -0.00069917])\n",
       "  message: b'CONVERGENCE: REL_REDUCTION_OF_F_<=_FACTR*EPSMCH'\n",
       "     nfev: 345\n",
       "      nit: 44\n",
       "   status: 0\n",
       "  success: True\n",
       "        x: array([0.85065477, 0.51750877, 4.56654189, 0.09306392])"
      ]
     },
     "execution_count": 27,
     "metadata": {},
     "output_type": "execute_result"
    }
   ],
   "source": [
    "#we need some initial guess\n",
    "alpha, rho, mu, sigma = (0.5, 0.5, 2, 1.2)\n",
    "z_series = np.zeros(100)\n",
    "z_series[0] = mu\n",
    "\n",
    "def get_z(w_vec, k_vec, alpha):\n",
    "    return np.log(w_vec) - np.log(1-alpha) - alpha*np.log(k_vec)\n",
    "\n",
    "def logpdf_of_z(z, rho, mu, sigma):\n",
    "    z[0] = mu\n",
    "    mean = rho * z[:-1] + (1 - rho) * mu\n",
    "    logpdf = norm.logpdf(z, np.hstack([mu, mean]), sigma)\n",
    "    return logpdf\n",
    "\n",
    "def crit1(param_vec, args):\n",
    "    alpha, rho, mu, sigma = param_vec\n",
    "    w_vec, c_vec = args\n",
    "    z_vec = get_z(w_vec, k_vec, alpha)\n",
    "    return - logpdf_of_z(z_vec, rho, mu, sigma).sum()\n",
    "\n",
    "param_vec_guess = [0.5, 0.5, 1.2, 1.2]\n",
    "args1 = [w_vec, c_vec]\n",
    "soln1 = opt.minimize(crit1, param_vec_guess, args = args1, method = \"L-BFGS-B\", bounds = ((1e-6, 1-1e-6), (-1+1e-6, 1-1e-6),(1e-6, None), (1e-6, None)))\n",
    "soln1"
   ]
  },
  {
   "cell_type": "code",
   "execution_count": 31,
   "metadata": {},
   "outputs": [
    {
     "data": {
      "text/plain": [
       "array([[ 7.71329813e+00, -2.51970208e+00, -7.03536630e+01,\n",
       "         4.30875782e-01],\n",
       "       [-2.51970208e+00,  4.05889118e+00,  2.23651029e+01,\n",
       "        -5.64595257e-01],\n",
       "       [-7.03536630e+01,  2.23651029e+01,  6.41820296e+02,\n",
       "        -3.84897833e+00],\n",
       "       [ 4.30875782e-01, -5.64595257e-01, -3.84897833e+00,\n",
       "         7.99307392e-02]])"
      ]
     },
     "execution_count": 31,
     "metadata": {},
     "output_type": "execute_result"
    }
   ],
   "source": [
    "alpha_mle1, rho_mle1, mu_mle1, sigma_mle1 = soln1.x\n",
    "soln1.hess_inv.todense()"
   ]
  },
  {
   "cell_type": "markdown",
   "metadata": {},
   "source": [
    "Use another equation to get a vector of z.\n",
    "$$r_t - \\alpha e^{z_t} (k_t) ^{\\alpha - 1} = 0$$\n",
    "$$r_t = \\alpha e^{z_t} (k_t) ^{\\alpha - 1} $$\n",
    "$$ e^{z_t} = \\frac{r_t}{\\alpha (k_t) ^{\\alpha - 1}}$$\n",
    "$$z_t = \\ln r_t - \\ln\\alpha - (\\alpha-1)\\ln k_t $$"
   ]
  },
  {
   "cell_type": "code",
   "execution_count": 33,
   "metadata": {},
   "outputs": [
    {
     "data": {
      "text/plain": [
       "      fun: -95.55298514141421\n",
       " hess_inv: <4x4 LbfgsInvHessProduct with dtype=float64>\n",
       "      jac: array([ 0.02065832, -0.00051159,  0.00124487, -0.01112852])\n",
       "  message: b'CONVERGENCE: REL_REDUCTION_OF_F_<=_FACTR*EPSMCH'\n",
       "     nfev: 255\n",
       "      nit: 34\n",
       "   status: 0\n",
       "  success: True\n",
       "        x: array([0.85063667, 0.51752431, 2.50432769, 0.09306346])"
      ]
     },
     "execution_count": 33,
     "metadata": {},
     "output_type": "execute_result"
    }
   ],
   "source": [
    "def get_z2(r_vec, k_vec, alpha):\n",
    "    return np.log(r_vec) - np.log(alpha) - (alpha -1)* np.log(k_vec)\n",
    "\n",
    "#the log pdf of z2 is the same\n",
    "\n",
    "def crit2(param_vec, args):\n",
    "    alpha, rho, mu, sigma = param_vec\n",
    "    r_vec, k_vec = args\n",
    "    z_vec = get_z2(r_vec, k_vec, alpha)\n",
    "    return - logpdf_of_z(z_vec, rho, mu, sigma).sum()\n",
    "\n",
    "#init guess is the same\n",
    "args2 = [r_vec, k_vec]\n",
    "soln2 = opt.minimize(crit2, param_vec_guess, args = args2, method = \"L-BFGS-B\", bounds = ((1e-6, 1-1e-6), (-1+1e-6, 1-1e-6),(1e-6, None), (1e-6, None)))\n",
    "soln2"
   ]
  },
  {
   "cell_type": "code",
   "execution_count": 34,
   "metadata": {},
   "outputs": [
    {
     "data": {
      "text/plain": [
       "array([[ 6.02021347e+01, -1.80736232e+02, -1.02025110e+03,\n",
       "         4.99806543e+00],\n",
       "       [-1.80736232e+02,  5.47312999e+02,  3.06275142e+03,\n",
       "        -1.51468642e+01],\n",
       "       [-1.02025110e+03,  3.06275142e+03,  1.72902983e+04,\n",
       "        -8.46966209e+01],\n",
       "       [ 4.99806543e+00, -1.51468642e+01, -8.46966209e+01,\n",
       "         4.19269585e-01]])"
      ]
     },
     "execution_count": 34,
     "metadata": {},
     "output_type": "execute_result"
    }
   ],
   "source": [
    "alpha_mle2, rho_mle2, mu_mle2, sigma_mle2 = soln2.x\n",
    "soln2.hess_inv.todense()"
   ]
  },
  {
   "cell_type": "code",
   "execution_count": 38,
   "metadata": {},
   "outputs": [
    {
     "name": "stdout",
     "output_type": "stream",
     "text": [
      "Probability :  1.0\n"
     ]
    }
   ],
   "source": [
    "# get probability\n",
    "z_star = get_z2(1, 7500000, alpha_mle1)\n",
    "mean = rho_mle1 * 10 + (1 - rho_mle1) * mu_mle1\n",
    "print('Probability : ', 1-norm.cdf(z_star, mean, sigma_mle1))"
   ]
  },
  {
   "cell_type": "code",
   "execution_count": null,
   "metadata": {},
   "outputs": [],
   "source": []
  }
 ],
 "metadata": {
  "kernelspec": {
   "display_name": "Python 3",
   "language": "python",
   "name": "python3"
  },
  "language_info": {
   "codemirror_mode": {
    "name": "ipython",
    "version": 3
   },
   "file_extension": ".py",
   "mimetype": "text/x-python",
   "name": "python",
   "nbconvert_exporter": "python",
   "pygments_lexer": "ipython3",
   "version": "3.6.4"
  }
 },
 "nbformat": 4,
 "nbformat_minor": 2
}
