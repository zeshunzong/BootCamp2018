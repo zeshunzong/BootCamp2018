{
 "cells": [
  {
   "cell_type": "code",
   "execution_count": 1,
   "metadata": {},
   "outputs": [],
   "source": [
    "import pandas as pd\n",
    "import numpy as np\n",
    "import matplotlib.pyplot as plt\n",
    "import scipy.optimize as opt\n",
    "import scipy\n",
    "from scipy.stats import norm"
   ]
  },
  {
   "cell_type": "code",
   "execution_count": 2,
   "metadata": {},
   "outputs": [],
   "source": [
    "#read data from \"MacroSeries.txt\"\n",
    "\n",
    "macro_data = pd.read_csv(\"MacroSeries.txt\", header = None)\n",
    "macro_data.columns = [\"c\", \"k\", \"w\", \"r\", \"y\"]\n",
    "c_vec = np.array(macro_data[\"c\"])\n",
    "k_vec = np.array(macro_data[\"k\"])\n",
    "w_vec = np.array(macro_data[\"w\"])\n",
    "r_vec = np.array(macro_data[\"r\"])\n",
    "y_vec = np.array(macro_data[\"y\"])\n",
    "\n"
   ]
  },
  {
   "cell_type": "markdown",
   "metadata": {},
   "source": [
    "The model is given by \n",
    "$$c_t^{-1} - \\beta \\mathbb{E}[r_{t+1} (c_{t+1})^{-1}] = 0$$\n",
    "$$c_t + k_{t+1} - w_t - r_t k_t = 0$$\n",
    "$$w_t - (1-\\alpha)e^{z_t} (k_t)^\\alpha = 0$$\n",
    "$$r_t - \\alpha e^{z_t} (k_t) ^{\\alpha - 1} = 0$$\n",
    "$$z_t = \\rho z_{t-1} + (1-\\rho)\\mu + \\epsilon_t $$\n",
    "$$y_t = e ^{z_t} (k_t)^\\alpha $$\n",
    "\n"
   ]
  },
  {
   "cell_type": "markdown",
   "metadata": {},
   "source": [
    "# (a) Estimate $\\alpha, \\beta, \\rho, \\mu$ by GMM\n",
    "\n",
    "$$E[\\epsilon_t] = 0$$\n"
   ]
  },
  {
   "cell_type": "code",
   "execution_count": 34,
   "metadata": {},
   "outputs": [
    {
     "data": {
      "text/plain": [
       "      fun: 216335.73629772136\n",
       " hess_inv: <4x4 LbfgsInvHessProduct with dtype=float64>\n",
       "      jac: array([-2.56305308e+02,  3.65903054e+07, -3.62094629e+01, -1.32172526e+01])\n",
       "  message: b'CONVERGENCE: REL_REDUCTION_OF_F_<=_FACTR*EPSMCH'\n",
       "     nfev: 165\n",
       "      nit: 16\n",
       "   status: 0\n",
       "  success: True\n",
       "        x: array([0.42854715, 0.98995021, 0.70616479, 9.00139022])"
      ]
     },
     "execution_count": 34,
     "metadata": {},
     "output_type": "execute_result"
    }
   ],
   "source": [
    "# given a guess of the parameters, use eq4 to get a sequence of z_t\n",
    "\n",
    "# need initial guess for alpha\n",
    "def get_z(r_vec, k_vec, alpha):\n",
    "    return np.log(r_vec) - np.log(alpha) - (alpha -1)* np.log(k_vec)\n",
    "\n",
    "#model moments are 0,0,0,0\n",
    "#calculate the four data moments \n",
    "def data_moments(c_vec, k_vec, w_vec, r_vec, y_vec, param_guess):\n",
    "    alpha, beta, rho, mu = param_guess\n",
    "    z_vec = get_z(r_vec, k_vec, alpha)\n",
    "    eq1 = z_vec[1:] - rho*z_vec[:-1] - (1-rho)*mu\n",
    "    eq2 = (z_vec[1:] - rho*z_vec[:-1] - (1-rho)*mu) * z_vec[:-1]\n",
    "    eq3 = beta * alpha * np.exp(z_vec[1:]) * (k_vec[1:]**(alpha-1)) * c_vec[:-1] / c_vec[1:] - 1\n",
    "    eq4 = (beta * alpha * np.exp(z_vec[1:]) * (k_vec[1:]**(alpha-1)) * c_vec[:-1] / c_vec[1:] - 1) * w_vec[:-1]\n",
    "    return np.array([eq1.mean(), eq2.mean(), eq3.mean(), eq4.mean()])\n",
    "\n",
    "\n",
    "#since data moments would approach zero, it is better to just use the simple error vector\n",
    "def error_vec(data_moments, model_moments):\n",
    "    return (data_moments - model_moments)\n",
    "\n",
    "def crit(param_vec, args):\n",
    "    c_vec, k_vec, w_vec, r_vec, y_vec, W = args\n",
    "    d_m = data_moments(c_vec, k_vec, w_vec, r_vec, y_vec, param_vec)\n",
    "    m_m = np.zeros(4)\n",
    "    err = error_vec(d_m, m_m)\n",
    "    \n",
    "    return err.T @ W @ err\n",
    "\n",
    "    \n",
    "    \n",
    "bnds = ((1e-5, 1-1e-5), (1e-5, 1-1e-5), (-1+1e-5, 1-1e-5), (1e-5, None))\n",
    "W = np.eye(4)\n",
    "param_guess = np.array([0.4, 0.9, 0.7, 9])\n",
    "argum = np.array([c_vec, k_vec, w_vec, r_vec, y_vec, W])\n",
    "\n",
    "soln = opt.minimize(crit, param_guess, args = argum, bounds = bnds, options={'eps': 1e-04})\n",
    "soln"
   ]
  },
  {
   "cell_type": "code",
   "execution_count": null,
   "metadata": {},
   "outputs": [],
   "source": []
  }
 ],
 "metadata": {
  "kernelspec": {
   "display_name": "Python 3",
   "language": "python",
   "name": "python3"
  },
  "language_info": {
   "codemirror_mode": {
    "name": "ipython",
    "version": 3
   },
   "file_extension": ".py",
   "mimetype": "text/x-python",
   "name": "python",
   "nbconvert_exporter": "python",
   "pygments_lexer": "ipython3",
   "version": "3.6.4"
  }
 },
 "nbformat": 4,
 "nbformat_minor": 2
}
