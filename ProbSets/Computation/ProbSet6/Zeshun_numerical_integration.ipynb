{
 "cells": [
  {
   "cell_type": "code",
   "execution_count": 1,
   "metadata": {},
   "outputs": [],
   "source": [
    "import numpy as np\n",
    "from numpy import linalg as la\n",
    "import math\n",
    "import matplotlib.pyplot as plt\n",
    "import scipy.optimize as opt"
   ]
  },
  {
   "cell_type": "markdown",
   "metadata": {},
   "source": [
    "# Exercise 1"
   ]
  },
  {
   "cell_type": "code",
   "execution_count": 2,
   "metadata": {},
   "outputs": [],
   "source": [
    "def newton_cotes(g, a, b, N, method = \"midpoint\"):\n",
    "    '''\n",
    "    g: a function of x\n",
    "    a, b: lower and upper bound of integration\n",
    "    N: number of intervals cutted\n",
    "    method: \\in {\"midpoint\", \"trapezoid\", \"Simpsons\"}\n",
    "    '''\n",
    "    \n",
    "    if method == \"midpoint\":\n",
    "        # Since there are N intervals, there should be N midpoints\n",
    "        midpoints = np.zeros(N)\n",
    "        temp = 0\n",
    "        for i in range(N):\n",
    "            midpoints[i] = a + (2*i+1)*(b-a)/(2*N)\n",
    "            temp += g(midpoints[i])    \n",
    "        result = (b-a)/N * temp\n",
    "    elif method == \"trapezoid\":\n",
    "        # N intervals would yield N+1 points\n",
    "        endpoints = np.zeros(N+1)\n",
    "        for i in range(N+1):\n",
    "            endpoints[i] = a + (b-a)*i/N\n",
    "        temp = 0\n",
    "        for i in range(1, N):\n",
    "            temp += g(endpoints[i])\n",
    "        result = (b-a)/(2*N)*(g(a) + 2 * temp + g(b))\n",
    "    elif method == \"Simpsons\":\n",
    "        #For N intervals there are N+1 endpoints and N sample points\n",
    "        samplepoints = np.zeros(2*N+1)\n",
    "        for i in range(2*N+1):\n",
    "            samplepoints[i] = a + i *(b-a) / (2*N) \n",
    "        temp = 0\n",
    "        for i in range(1, 2*N):\n",
    "            # loop from i = 1 to 2N-1\n",
    "            if i%2 == 1:\n",
    "                # if i is odd\n",
    "                temp += 4*g(samplepoints[i])\n",
    "            else:\n",
    "                # i is even\n",
    "                temp += 2*g(samplepoints[i])\n",
    "        result = (b-a)/3/(2*N)*(g(a) + temp + g(b))\n",
    "        # note that the distance h between two points is (b-a)/(2N)\n",
    "    else:\n",
    "        raise ValueError\n",
    "    return result"
   ]
  },
  {
   "cell_type": "code",
   "execution_count": 3,
   "metadata": {},
   "outputs": [
    {
     "name": "stdout",
     "output_type": "stream",
     "text": [
      "Integrate from -10 to 10, the analytical result is 4373.333\n",
      "Composite midpoint method, 100 intervals:  4371.964759999999\n",
      "Composite trapezoid method, 100 intervals:  4376.07056\n",
      "Composite Simpson's method, 100 intervals:  4373.333360000001\n"
     ]
    }
   ],
   "source": [
    "g = lambda x : 0.1 * x**4 - 1.5 * x**3 + 0.53 * x**2 + 2*x +1\n",
    "print(\"Integrate from -10 to 10, the analytical result is 4373.333\")\n",
    "print(\"Composite midpoint method, 100 intervals: \",newton_cotes(g, -10, +10, 100))\n",
    "print(\"Composite trapezoid method, 100 intervals: \",newton_cotes(g, -10, +10, 100, \"trapezoid\"))\n",
    "print(\"Composite Simpson's method, 100 intervals: \",newton_cotes(g, -10, +10, 100, \"Simpsons\"))"
   ]
  },
  {
   "cell_type": "markdown",
   "metadata": {},
   "source": [
    "# Exercise 2"
   ]
  },
  {
   "cell_type": "code",
   "execution_count": 4,
   "metadata": {},
   "outputs": [],
   "source": [
    "from scipy.stats import norm\n",
    "def normal_approximation(mu, sigma, N, k):\n",
    "    nodes = np.linspace(mu-k*sigma, mu+k*sigma, N)\n",
    "    weights = np.ones(N)\n",
    "    # N must be greater than or equal to 2\n",
    "    weights[0] = norm.cdf((nodes[0]+nodes[1])/2, mu, sigma)\n",
    "    weights[-1] = 1-norm.cdf((nodes[-1]+nodes[-2])/2, mu, sigma)\n",
    "    \n",
    "    pdf = lambda x : 1/ np.sqrt(2*np.pi * sigma**2)*np.exp(-(x-mu)**2/(2*sigma**2))\n",
    "    for i in range(1, N-1):\n",
    "        zmin = (nodes[i-1]+nodes[i])/2\n",
    "        zmax = (nodes[i]+nodes[i+1])/2\n",
    "        weights[i] = newton_cotes(pdf, zmin, zmax, 400, method = \"Simpsons\")\n",
    "        \n",
    "    return nodes, weights"
   ]
  },
  {
   "cell_type": "code",
   "execution_count": 5,
   "metadata": {},
   "outputs": [
    {
     "data": {
      "text/plain": [
       "[<matplotlib.lines.Line2D at 0x1f19e94668>]"
      ]
     },
     "execution_count": 5,
     "metadata": {},
     "output_type": "execute_result"
    },
    {
     "data": {
      "image/png": "[encoded data removed]",
      "text/plain": [
       "<matplotlib.figure.Figure at 0x10fe0cac8>"
      ]
     },
     "metadata": {},
     "output_type": "display_data"
    }
   ],
   "source": [
    "#we can approximate normal distribution\n",
    "x, y= normal_approximation(0, 1, 20, 3)\n",
    "plt.plot(x, y)"
   ]
  },
  {
   "cell_type": "markdown",
   "metadata": {},
   "source": [
    "# Exercise 3"
   ]
  },
  {
   "cell_type": "code",
   "execution_count": 6,
   "metadata": {},
   "outputs": [
    {
     "data": {
      "text/plain": [
       "[<matplotlib.lines.Line2D at 0x1f19f90dd8>]"
      ]
     },
     "execution_count": 6,
     "metadata": {},
     "output_type": "execute_result"
    },
    {
     "data": {
      "image/png": "[encoded data removed]",
      "text/plain": [
       "<matplotlib.figure.Figure at 0x10fe0c8d0>"
      ]
     },
     "metadata": {},
     "output_type": "display_data"
    }
   ],
   "source": [
    "def lognormal_approx(mu, sigma, N, k):\n",
    "    nodes, weights = normal_approximation(mu, sigma, N, k)\n",
    "    nodes = np.exp(nodes)\n",
    "    return nodes, weights\n",
    "\n",
    "nodes, weights = lognormal_approx(0, 1, 1000, 4)\n",
    "plt.plot(nodes, weights)\n"
   ]
  },
  {
   "cell_type": "markdown",
   "metadata": {},
   "source": [
    "# Exercise 4"
   ]
  },
  {
   "cell_type": "code",
   "execution_count": 7,
   "metadata": {},
   "outputs": [
    {
     "name": "stdout",
     "output_type": "stream",
     "text": [
      "The estimated expected value is  50011.27880633197\n",
      "The true expected value is  50011.087008521754\n"
     ]
    }
   ],
   "source": [
    "weights, nodes = lognormal_approx(10.5, 0.8, 1000, 6)\n",
    "print(\"The estimated expected value is \",(weights * nodes).sum())\n",
    "print(\"The true expected value is \", np.exp(10.5 + 0.5 * 0.8 **2))"
   ]
  },
  {
   "cell_type": "markdown",
   "metadata": {},
   "source": [
    "# Exercise 5"
   ]
  },
  {
   "cell_type": "code",
   "execution_count": 8,
   "metadata": {},
   "outputs": [
    {
     "name": "stdout",
     "output_type": "stream",
     "text": [
      "4373.333333432907\n"
     ]
    }
   ],
   "source": [
    "import scipy.optimize as opt\n",
    "import math\n",
    "\n",
    "a = -10\n",
    "b = 10\n",
    "#approximate each term \n",
    "def equations(x):\n",
    "    eq1 = x[0] + x[1] + x[2] - (b - a)\n",
    "    eq2 = x[0] * x[3] + x[1] * x[4] + x[2] * x[5] - ((1/2) * b ** 2 - (1/2) * a ** 2)\n",
    "    eq3 = x[0] * x[3] ** 2 + x[1] * x[4] ** 2 + x[2] * x[5] ** 2 - ((1/3) * b ** 3 - (1/3) * a ** 3)\n",
    "    eq4 = x[0] * x[3] ** 3 + x[1] * x[4] ** 3 + x[2] * x[5] ** 3 - ((1/4) * b ** 4 - (1/4) * a ** 4)\n",
    "    eq5 = x[0] * x[3] ** 4 + x[1] * x[4] ** 4 + x[2] * x[5] ** 4 - ((1/5) * b ** 5 - (1/5) * a ** 5)\n",
    "    eq6 = x[0] * x[3] ** 5 + x[1] * x[4] ** 5 + x[2] * x[5] ** 5 - ((1/6) * b ** 6 - (1/6) * a ** 6)\n",
    "    return np.array([eq1, eq2, eq3, eq4, eq5, eq6])\n",
    "#opt.root is sensitive to init_guess                        \n",
    "x = opt.root(equations,(5, 3, 4, -5, 5, 3)).x\n",
    "weights = x[0:3]\n",
    "nodes = x[3: 6]\n",
    "result = 0\n",
    "for i in range(3): \n",
    "    result += (g(nodes[i])) * (weights[i])\n",
    "print(result)"
   ]
  },
  {
   "cell_type": "markdown",
   "metadata": {},
   "source": [
    "# Exercise 6"
   ]
  },
  {
   "cell_type": "code",
   "execution_count": 9,
   "metadata": {},
   "outputs": [
    {
     "name": "stdout",
     "output_type": "stream",
     "text": [
      "4373.333333333334\n"
     ]
    }
   ],
   "source": [
    "from scipy.integrate import quad\n",
    "print(quad(g, -10, 10)[0])"
   ]
  },
  {
   "cell_type": "markdown",
   "metadata": {},
   "source": [
    "Observe that is result is exact."
   ]
  },
  {
   "cell_type": "markdown",
   "metadata": {},
   "source": [
    "# Exercise 7"
   ]
  },
  {
   "cell_type": "code",
   "execution_count": 10,
   "metadata": {},
   "outputs": [
    {
     "data": {
      "text/plain": [
       "3.14456"
      ]
     },
     "execution_count": 10,
     "metadata": {},
     "output_type": "execute_result"
    }
   ],
   "source": [
    "from numpy.random import uniform\n",
    "def monte_carlo_pi(func, draws):\n",
    "    x_vec = uniform(-1, 1, draws)\n",
    "    y_vec = uniform(-1, 1, draws)\n",
    "    #the N coordinates are given by (x_vec[i], y_vec[i])\n",
    "    \n",
    "    temp = 0\n",
    "    for i in range(draws):\n",
    "        temp += func(np.array([x_vec[i], y_vec[i]]))\n",
    "    \n",
    "    return temp * 4 / draws\n",
    "\n",
    "def pi_func(vec):\n",
    "    x = vec[0]\n",
    "    y = vec[1]\n",
    "    if (x**2 + y**2)<=1:\n",
    "        return 1\n",
    "    return 0\n",
    "\n",
    "monte_carlo_pi(pi_func, 100000)"
   ]
  },
  {
   "cell_type": "code",
   "execution_count": 11,
   "metadata": {},
   "outputs": [
    {
     "name": "stdout",
     "output_type": "stream",
     "text": [
      "117600\n"
     ]
    }
   ],
   "source": [
    "i = 100000\n",
    "error = np.abs(monte_carlo_pi(pi_func, i) - 3.1415)\n",
    "while error >= 0.00005:\n",
    "    i = i + 100\n",
    "    error = np.abs(monte_carlo_pi(pi_func, i) - 3.1415)\n",
    "print(i)"
   ]
  },
  {
   "cell_type": "markdown",
   "metadata": {},
   "source": [
    "# Exercise 8"
   ]
  },
  {
   "cell_type": "code",
   "execution_count": 18,
   "metadata": {},
   "outputs": [],
   "source": [
    "def get_n_primes(n):\n",
    "    # return an nparray of first n prime numbers\n",
    "    primes = np.array([])\n",
    "    if n == 0:\n",
    "        return primes\n",
    "    # if n >= 1, the first element is 2\n",
    "    primes = np.append(primes, 2)\n",
    "    \n",
    "    x = 3\n",
    "    while True:\n",
    "        if len(primes)==n:\n",
    "            return primes\n",
    "        \n",
    "        i=0\n",
    "        isPrime = True\n",
    "        while (i < len(primes)) and (primes[i] <= math.sqrt(x)):\n",
    "            if x%primes[i]==0:\n",
    "                isPrime = False\n",
    "                break\n",
    "            i = i + 1\n",
    "        if (isPrime):\n",
    "            primes = np.append(primes, x)\n",
    "        x = x+1\n",
    "    return primes\n",
    "    \n",
    "def get_point(n, dimension, method):\n",
    "    if method == \"Weyl\":\n",
    "        primes = get_n_primes(dimension)\n",
    "        primes = primes ** 0.5 * n - np.floor(primes ** 0.5 * n)\n",
    "        return primes\n",
    "    if method == \"Haber\":\n",
    "        primes = get_n_primes(dimension)\n",
    "        temp = n*(n+1)/2*np.sqrt(primes)\n",
    "        return temp - np.floor(temp)\n",
    "    if method == \"Niederreiter\":\n",
    "      \n",
    "        \n",
    "        expo = np.arange(1, dimension+1)\n",
    "        expo = expo / (dimension+1)\n",
    "        result = 2**expo * n\n",
    "        result = result - np.floor(result)\n",
    "        return result\n",
    "    \n",
    "        '''\n",
    "        ar = np.arange(1, dimension + 1)\n",
    "        x = n * (2 ** (ar / (dimension + 1)))\n",
    "        x_floor = np.floor(x)\n",
    "        seq_elem = x - x_floor\n",
    "        return seq_elem\n",
    "        '''\n",
    "    if method == \"Baker\":\n",
    "        primes = get_n_primes(dimension)\n",
    "        #primes = np.arange(1, dimension+1)\n",
    "        temp = np.exp(primes)*n\n",
    "        return temp - np.floor(temp)\n",
    "        \n",
    "        "
   ]
  },
  {
   "cell_type": "code",
   "execution_count": 19,
   "metadata": {},
   "outputs": [
    {
     "data": {
      "text/plain": [
       "array([0.94528049, 0.42768462])"
      ]
     },
     "execution_count": 19,
     "metadata": {},
     "output_type": "execute_result"
    }
   ],
   "source": [
    "get_point(5, 2, \"Baker\")"
   ]
  },
  {
   "cell_type": "code",
   "execution_count": 20,
   "metadata": {},
   "outputs": [
    {
     "data": {
      "text/plain": [
       "[<matplotlib.lines.Line2D at 0x1f1a27af98>]"
      ]
     },
     "execution_count": 20,
     "metadata": {},
     "output_type": "execute_result"
    },
    {
     "data": {
      "image/png": "[encoded data removed]",
      "text/plain": [
       "<matplotlib.figure.Figure at 0x1f1a24b668>"
      ]
     },
     "metadata": {},
     "output_type": "display_data"
    }
   ],
   "source": [
    "x_coordi = np.zeros(10000)\n",
    "y_coordi = np.zeros(10000)\n",
    "for i in range(1,10001):\n",
    "    x, y = get_point(i, 2, \"Niederreiter\")\n",
    "    y_coordi[i-1] = y\n",
    "    x_coordi[i-1] = x\n",
    "plt.figure(figsize = (6,6))\n",
    "plt.plot(x_coordi, y_coordi, \"o\", markersize = 1)"
   ]
  },
  {
   "cell_type": "markdown",
   "metadata": {},
   "source": [
    "# Exercise 9"
   ]
  },
  {
   "cell_type": "code",
   "execution_count": 73,
   "metadata": {},
   "outputs": [
    {
     "name": "stdout",
     "output_type": "stream",
     "text": [
      "3.1418800000000005\n"
     ]
    }
   ],
   "source": [
    "# we need to scale sample points to make them fall into [-1,1]\n",
    "# one way to do that is to multiply the coordinate by 2 and then substract 1\n",
    "\n",
    "# generate 100000 points\n",
    "x_co = np.zeros(100000)\n",
    "y_co = np.zeros(100000)\n",
    "for i in range(1,100001):\n",
    "    x, y = get_point(i, 2, \"Baker\")\n",
    "    y_co[i-1] = y\n",
    "    x_co[i-1] = x\n",
    "# rescale the coordinates\n",
    "x_co = x_co * 2 - 1\n",
    "y_co = y_co * 2 - 1\n",
    "\n",
    "#use sample points to estimate pi\n",
    "\n",
    "est = 0\n",
    "for i in range(100000):\n",
    "    est += pi_func(np.array([x_co[i], y_co[i]]))\n",
    "    \n",
    "est = 4 / 100000 * est\n",
    "print(est)"
   ]
  },
  {
   "cell_type": "code",
   "execution_count": null,
   "metadata": {},
   "outputs": [],
   "source": []
  }
 ],
 "metadata": {
  "kernelspec": {
   "display_name": "Python 3",
   "language": "python",
   "name": "python3"
  },
  "language_info": {
   "codemirror_mode": {
    "name": "ipython",
    "version": 3
   },
   "file_extension": ".py",
   "mimetype": "text/x-python",
   "name": "python",
   "nbconvert_exporter": "python",
   "pygments_lexer": "ipython3",
   "version": "3.6.4"
  }
 },
 "nbformat": 4,
 "nbformat_minor": 2
}
