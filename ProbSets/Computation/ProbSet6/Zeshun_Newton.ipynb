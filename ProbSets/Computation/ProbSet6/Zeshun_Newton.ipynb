{
 "cells": [
  {
   "cell_type": "markdown",
   "metadata": {},
   "source": [
    "# Problem 1"
   ]
  },
  {
   "cell_type": "code",
   "execution_count": 31,
   "metadata": {},
   "outputs": [
    {
     "name": "stdout",
     "output_type": "stream",
     "text": [
      "0.6931471805600254\n"
     ]
    },
    {
     "data": {
      "text/plain": [
       "True"
      ]
     },
     "execution_count": 31,
     "metadata": {},
     "output_type": "execute_result"
    }
   ],
   "source": [
    "import numpy as np\n",
    "import math\n",
    "\n",
    "def one_d_newton(f, x0, f_prime, tol = 1e-5, maxiter = 15):\n",
    "    difference = tol + 1\n",
    "    currentItr = 1\n",
    "    x1=0\n",
    "    while (currentItr < maxiter) and (difference > tol):\n",
    "        x1 = x0 - f(x0)/f_prime(x0)\n",
    "        difference = abs(x1 - x0)\n",
    "        x0 = x1\n",
    "        currentItr += 1\n",
    "        \n",
    "    if (currentItr == maxiter):\n",
    "        raise ValueError(\"Does not converge\")\n",
    "    return x0\n",
    "\n",
    "f = lambda x : np.exp(x) - 2\n",
    "f_prime = lambda x : np.exp(x)\n",
    "\n",
    "res = one_d_newton(f, 0, f_prime)\n",
    "print(res)\n",
    "np.allclose(f(res), 0)"
   ]
  },
  {
   "cell_type": "markdown",
   "metadata": {},
   "source": [
    "# Problem 2"
   ]
  },
  {
   "cell_type": "code",
   "execution_count": 6,
   "metadata": {},
   "outputs": [
    {
     "name": "stdout",
     "output_type": "stream",
     "text": [
      "0.038778432893950644\n"
     ]
    }
   ],
   "source": [
    "def fr(r, args):\n",
    "    p1, p2, n1, n2 = args\n",
    "    return p1*((1+r)**n1-1) - p2*(1-(1+r)**(-n2))\n",
    "\n",
    "def fr_prime(r, args):\n",
    "    p1, p2, n1, n2 = args\n",
    "    return p1*n1*(1+r)**(n1-1)-p2*n2*(1+r)**(-n2-1)\n",
    "\n",
    "arguments = (2000, 8000, 30, 20)\n",
    "\n",
    "gr = lambda r : fr(r, arguments)\n",
    "gr_prime = lambda r:fr_prime(r, arguments)\n",
    "\n",
    "res2 = one_d_newton(gr, 0.03, gr_prime)\n",
    "print(res2)"
   ]
  },
  {
   "cell_type": "markdown",
   "metadata": {},
   "source": [
    "# Problem 3"
   ]
  },
  {
   "cell_type": "code",
   "execution_count": 19,
   "metadata": {},
   "outputs": [
    {
     "data": {
      "text/plain": [
       "6.400000000000125e-07"
      ]
     },
     "execution_count": 19,
     "metadata": {},
     "output_type": "execute_result"
    }
   ],
   "source": [
    "def backtracking(f, x0, f_prime, tol = 1e-5, alpha = 1, maxiter = 15):\n",
    "    difference = tol + 1\n",
    "    currentItr = 1\n",
    "    x1=0\n",
    "    while (currentItr < maxiter) and (difference > tol):\n",
    "        x1 = x0 - f(x0)/f_prime(x0)*alpha\n",
    "        difference = abs(x1 - x0)\n",
    "        x0 = x1\n",
    "        currentItr += 1\n",
    "    return x0\n",
    "\n",
    "#f = lambda x : x**(1.0/3)\n",
    "#f_prime = lambda x : (1.0/3) * x ** (-2.0/3)\n",
    "f = lambda x : np.sign(x) * np.power(np.abs(x), 1.0/3)\n",
    "f_prime = lambda x : 1/( np.power(np.abs(x), 2.0/3))/3\n",
    "\n",
    "backtracking(f, 0.01, f_prime, alpha = 0.4)"
   ]
  },
  {
   "cell_type": "markdown",
   "metadata": {},
   "source": [
    "# Problem 4"
   ]
  },
  {
   "cell_type": "code",
   "execution_count": 30,
   "metadata": {},
   "outputs": [
    {
     "data": {
      "image/png": "[encoded data removed]",
      "text/plain": [
       "<matplotlib.figure.Figure at 0x11cd31358>"
      ]
     },
     "metadata": {},
     "output_type": "display_data"
    }
   ],
   "source": [
    "import matplotlib.pyplot as plt\n",
    "f = lambda x : np.exp(x) - 2\n",
    "f_prime = lambda x : np.exp(x)\n",
    "alpha = np.linspace(0.1, 1, 10)\n",
    "\n",
    "def backtracking_itr(f, x0, f_prime, tol = 1e-5, alpha = 1, maxiter = 100):\n",
    "    difference = tol + 1\n",
    "    currentItr = 1\n",
    "    x1=0\n",
    "    while (currentItr < maxiter) and (difference > tol):\n",
    "        x1 = x0 - f(x0)/f_prime(x0)*alpha\n",
    "        difference = abs(x1 - x0)\n",
    "        x0 = x1\n",
    "        currentItr += 1\n",
    "    return currentItr\n",
    "\n",
    "iters = np.zeros(10)\n",
    "for i in range(10):\n",
    "    iters[i] = backtracking_itr(f, 0, f_prime, alpha = alpha[i])\n",
    "plt.plot(alpha, iters)\n",
    "plt.title(\"Rate of convergence\")\n",
    "plt.xlabel(r\"$\\alpha$\")\n",
    "plt.ylabel(\"# of iterations\")\n",
    "plt.show()\n"
   ]
  },
  {
   "cell_type": "markdown",
   "metadata": {},
   "source": [
    "# Problem 5"
   ]
  },
  {
   "cell_type": "code",
   "execution_count": 39,
   "metadata": {},
   "outputs": [
    {
     "data": {
      "text/plain": [
       "True"
      ]
     },
     "execution_count": 39,
     "metadata": {},
     "output_type": "execute_result"
    }
   ],
   "source": [
    "from autograd import elementwise_grad\n",
    "from autograd import jacobian\n",
    "from sympy.matrices import *\n",
    "from autograd import grad\n",
    "import autograd.numpy as anp\n",
    "import sympy as sy\n",
    "from sympy import lambdify\n",
    "from sympy import *\n",
    "import numpy.linalg as la\n",
    "\n",
    "def nd_newton(f, Df, x0, tol = 1e-6, maxiter = 100, alpha = 1):\n",
    "    difference = tol + 1\n",
    "    currentItr = 1\n",
    "    if np.isscalar(x0):\n",
    "        x1=0 #initialize\n",
    "        while (currentItr < maxiter) and (difference > tol):\n",
    "            x1 = x0 - f(x0)/Df(x0)*alpha\n",
    "            difference = abs(x1 - x0)\n",
    "            x0 = x1\n",
    "            currentItr += 1\n",
    "        if (currentItr == maxiter):\n",
    "            raise ValueError(\"Does not converge\")\n",
    "        return x0\n",
    "    else:\n",
    "        n = x0.shape\n",
    "        while (currentItr < maxiter) and (difference > tol):\n",
    "            x1 = x0 - alpha * la.inv(Df(x0)) @ f(x0)\n",
    "            difference = la.norm(x1 - x0)\n",
    "            x0 = x1\n",
    "            currentItr += 1\n",
    "        if (currentItr == maxiter):\n",
    "            raise ValueError(\"Does not converge\")\n",
    "        return x0\n",
    "    \n",
    "def Df(x_vec):\n",
    "    x, y = sy.symbols(\"x y\")\n",
    "    func1_sy = exp(x)*sin(y) + y**3\n",
    "    func2_sy = 3*y - cos(x)\n",
    "    func_sy = Matrix([func1_sy, func2_sy])\n",
    "    jac_sy = func_sy.jacobian([x,y])\n",
    "    jac_func = lambdify((x,y), jac_sy)\n",
    "    return jac_func(x_vec[0], x_vec[1])\n",
    "\n",
    "def f(x_vec):\n",
    "    x, y = x_vec\n",
    "    return np.array([np.exp(x)*np.sin(y)+y**3, 3*y-np.cos(x)])\n",
    "\n",
    "ans = nd_newton(f, Df, np.array([1,1]))\n",
    "np.allclose(f(ans), np.array([0,0]))"
   ]
  },
  {
   "cell_type": "markdown",
   "metadata": {},
   "source": [
    "# Problem 6"
   ]
  },
  {
   "cell_type": "code",
   "execution_count": 58,
   "metadata": {},
   "outputs": [
    {
     "name": "stdout",
     "output_type": "stream",
     "text": [
      "[-7.16963966e-21 -1.00000000e+00]\n",
      "This is sufficiently close to 0, -1\n"
     ]
    }
   ],
   "source": [
    "def fun(x_vec):\n",
    "    x, y = x_vec\n",
    "    gamma = 5\n",
    "    delta = 1\n",
    "    a1 = gamma * x * y - x * (1+y)\n",
    "    a2 = -x*y + (delta - y)*(1+y)\n",
    "    return np.array([a1, a2])\n",
    "\n",
    "def Dfun(x_vec):\n",
    "    x, y = sy.symbols(\"x y\")\n",
    "    gamma = 5\n",
    "    delta = 1\n",
    "    func1_sy = gamma * x * y - x * (1+y)\n",
    "    func2_sy = -x*y + (delta - y)*(1+y)\n",
    "    func_sy = Matrix([func1_sy, func2_sy])\n",
    "    jac_sy = func_sy.jacobian([x,y])\n",
    "    jac_func = lambdify((x,y), jac_sy)\n",
    "    \n",
    "    return jac_func(x_vec[0], x_vec[1])\n",
    " \n",
    "\n",
    "\n",
    "print(nd_newton(fun, Dfun, np.array([-0.15, 0.15]), alpha = 1))\n",
    "print(\"This is sufficiently close to 0, -1\")"
   ]
  },
  {
   "cell_type": "markdown",
   "metadata": {},
   "source": [
    "# Problem 7"
   ]
  },
  {
   "cell_type": "code",
   "execution_count": 95,
   "metadata": {},
   "outputs": [
    {
     "name": "stderr",
     "output_type": "stream",
     "text": [
      "/Users/Zeshun/anaconda3/lib/python3.6/site-packages/ipykernel_launcher.py:4: RuntimeWarning: divide by zero encountered in true_divide\n",
      "  after removing the cwd from sys.path.\n",
      "/Users/Zeshun/anaconda3/lib/python3.6/site-packages/ipykernel_launcher.py:4: RuntimeWarning: invalid value encountered in true_divide\n",
      "  after removing the cwd from sys.path.\n"
     ]
    },
    {
     "data": {
      "image/png": "[encoded data removed]",
      "text/plain": [
       "<matplotlib.figure.Figure at 0x11e6dfd68>"
      ]
     },
     "metadata": {},
     "output_type": "display_data"
    }
   ],
   "source": [
    "def newton_iters(f, f_prime, x0, iters):\n",
    "    currentItr = 1\n",
    "    while currentItr <= iters:\n",
    "        x1 = x0 - f(x0)/f_prime(x0)\n",
    "        x0 = x1\n",
    "        currentItr += 1\n",
    "    return x1\n",
    "\n",
    "def basins(f, f_prime, zeros, bounds, res, iters):\n",
    "    r_min, r_max, i_min, i_max = bounds\n",
    "    x_real = np.linspace(r_min, r_max, res)\n",
    "    x_imag = np.linspace(i_min, i_max, res)\n",
    "    X_real, X_imag = np.meshgrid(x_real, x_imag)\n",
    "    X0 = X_real + 1j*X_imag\n",
    "    Xk = np.zeros_like(X0)\n",
    "    Xk = newton_iters(f, f_prime, X0, iters)\n",
    "    \n",
    "    Y = get_Y(Xk, zeros)\n",
    "    \n",
    "    plt.pcolormesh(x_real, x_imag, Y, cmap = \"brg\")\n",
    "    #return Xk\n",
    "    \n",
    "    \n",
    "bounds = [-1.5,1.5,-1.5,1.5]\n",
    "f = lambda x:x**3 -1\n",
    "f_prime = lambda x : 3 * x**2\n",
    "\n",
    "zeros = np.array([1, -0.5+1j*math.sqrt(3)/2, -0.5-1j*math.sqrt(3)/2])\n",
    "\n",
    "\n",
    "\n",
    "\n",
    "basins(f, f_prime, zeros, bounds, 901, 6)\n",
    "\n",
    "\n",
    "def get_Y(Xk, zeros):\n",
    "    m, n = Xk.shape\n",
    "    Y = np.zeros((m,n))\n",
    "    for z in range(len(zeros)):\n",
    "        for i in range(m):\n",
    "            for j in range(n):\n",
    "                if np.allclose(Xk[i,j], zeros[z]):\n",
    "                    Y[i,j] = int(z)\n",
    "    return Y\n",
    "\n",
    "#get_Y(xk, zeros)\n",
    "#print(np.allclose(xk[0,1], 1))"
   ]
  },
  {
   "cell_type": "code",
   "execution_count": null,
   "metadata": {},
   "outputs": [],
   "source": []
  }
 ],
 "metadata": {
  "kernelspec": {
   "display_name": "Python 3",
   "language": "python",
   "name": "python3"
  },
  "language_info": {
   "codemirror_mode": {
    "name": "ipython",
    "version": 3
   },
   "file_extension": ".py",
   "mimetype": "text/x-python",
   "name": "python",
   "nbconvert_exporter": "python",
   "pygments_lexer": "ipython3",
   "version": "3.6.4"
  }
 },
 "nbformat": 4,
 "nbformat_minor": 2
}
