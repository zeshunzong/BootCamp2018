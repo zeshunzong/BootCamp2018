{
 "cells": [
  {
   "cell_type": "code",
   "execution_count": 32,
   "metadata": {},
   "outputs": [],
   "source": [
    "import numpy as np\n",
    "import math\n",
    "import scipy.linalg as la\n",
    "import matplotlib.pyplot as plt"
   ]
  },
  {
   "cell_type": "markdown",
   "metadata": {},
   "source": [
    "# Problem 1 & 2"
   ]
  },
  {
   "cell_type": "code",
   "execution_count": 34,
   "metadata": {},
   "outputs": [
    {
     "data": {
      "text/plain": [
       "True"
      ]
     },
     "execution_count": 34,
     "metadata": {},
     "output_type": "execute_result"
    }
   ],
   "source": [
    "def Jacobi(A, b, tol, maxiters, plot = False):\n",
    "    m, n = A.shape\n",
    "    currentItr = 1\n",
    "    difference = tol + 1\n",
    "    L = np.tril(A)\n",
    "    U = np.triu(A)\n",
    "    D = np.diag(A)\n",
    "    x0 = b/D\n",
    "    plot_error = []\n",
    "    while (currentItr < maxiters) and (difference > tol):\n",
    "        x1 = x0 + (b - A@x0)/D\n",
    "        #print(x1)\n",
    "        difference = la.norm(x1-x0, ord = np.inf)\n",
    "        plot_error.append(difference)\n",
    "        #print(difference)\n",
    "        x0 = x1\n",
    "        currentItr += 1\n",
    "        \n",
    "    if plot:\n",
    "        plt.plot(np.array(plot_error))\n",
    "        plt.xlabel(\"# of iterations\")\n",
    "        plt.ylabel(\"Absolute error of approximation\")\n",
    "        plt.title(\"Convergence of Jacobi method\")\n",
    "    return x0\n",
    "\n",
    "def diag_dom(n, num_entries=None):\n",
    "    \"\"\"Generate a strictly diagonally dominant (n, n) matrix.\n",
    "    Parameters:\n",
    "        n (int): The dimension of the system.\n",
    "        num_entries (int): The number of nonzero values.\n",
    "            Defaults to n^(3/2)-n.\n",
    "    Returns:\n",
    "        A ((n,n) ndarray): A (n, n) strictly diagonally dominant matrix.\n",
    "    \"\"\"\n",
    "    if num_entries is None:\n",
    "        num_entries = int(n**1.5) - n\n",
    "    A = np.zeros((n,n))\n",
    "    rows = np.random.choice(np.arange(0,n), size=num_entries)\n",
    "    cols = np.random.choice(np.arange(0,n), size=num_entries)\n",
    "    data = np.random.randint(-4, 4, size=num_entries)\n",
    "    for i in range(num_entries):\n",
    "        A[rows[i], cols[i]] = data[i]\n",
    "    for i in range(n):\n",
    "        A[i,i] = np.sum(np.abs(A[i])) + 1\n",
    "    return A\n",
    "\n",
    "A = diag_dom(5)\n",
    "\n",
    "b = np.ones(5)\n",
    "ans = Jacobi(A, b, 1e-8, 1000)\n",
    "np.allclose(A@ans, b)"
   ]
  },
  {
   "cell_type": "code",
   "execution_count": 35,
   "metadata": {},
   "outputs": [
    {
     "data": {
      "text/plain": [
       "array([ 0.99999999, -0.5       ,  0.99999999, -0.49999999,  1.        ])"
      ]
     },
     "execution_count": 35,
     "metadata": {},
     "output_type": "execute_result"
    },
    {
     "data": {
      "image/png": "[encoded data removed]",
      "text/plain": [
       "<matplotlib.figure.Figure at 0x60e45ae80>"
      ]
     },
     "metadata": {},
     "output_type": "display_data"
    }
   ],
   "source": [
    "Jacobi(A, b, 1e-8, 1000, True)"
   ]
  },
  {
   "cell_type": "markdown",
   "metadata": {},
   "source": [
    "# Exercise 3"
   ]
  },
  {
   "cell_type": "code",
   "execution_count": 51,
   "metadata": {},
   "outputs": [
    {
     "data": {
      "text/plain": [
       "True"
      ]
     },
     "execution_count": 51,
     "metadata": {},
     "output_type": "execute_result"
    },
    {
     "data": {
      "image/png": "[encoded data removed]",
      "text/plain": [
       "<matplotlib.figure.Figure at 0x60e84a898>"
      ]
     },
     "metadata": {},
     "output_type": "display_data"
    }
   ],
   "source": [
    "def Gauss_seidel(A, b, tol, maxiter, plot = False):\n",
    "    m, n = A.shape\n",
    "    D = np.diag(A)\n",
    "    x0 = b/D\n",
    "    error_vec = []\n",
    "    difference = tol + 1\n",
    "    currentItr = 1\n",
    "    x1 = np.zeros_like(x0)\n",
    "    while (difference > tol) and (currentItr<maxiter):\n",
    "        #need to make a copy because change is in place, otherwise cannot measure error\n",
    "        temp = np.copy(x0)\n",
    "        for i in range(n):\n",
    "            x1[i] = x0[i] + (b[i] - np.dot(A[i,:],x0))/A[i,i]\n",
    "        difference = la.norm(x1 - temp, np.inf)\n",
    "        error_vec.append(difference)\n",
    "        x0 = x1\n",
    "    if plot:\n",
    "        plt.plot(error_vec)\n",
    "        plt.title(\"Convergence of Gauss Seidel method\")\n",
    "        plt.xlabel(\"# of iterations\")\n",
    "        plt.ylabel(\"Absolute error of approximation\")\n",
    "    return x0\n",
    "\n",
    "\n",
    "res = Gauss_seidel(A, b, 1e-8, 1000, True)        \n",
    "np.allclose(A@res, b)\n",
    "    \n",
    "        "
   ]
  },
  {
   "cell_type": "markdown",
   "metadata": {},
   "source": [
    "# Exercise 4"
   ]
  },
  {
   "cell_type": "code",
   "execution_count": null,
   "metadata": {},
   "outputs": [],
   "source": [
    "from scipy import sparse\n",
    "def sparce_gauss(A, b, tol, maxiter):\n",
    "    m, n = A.shape\n",
    "    D = np.diag(A)\n",
    "    x0 = b/D\n",
    "    error_vec = []\n",
    "    difference = tol + 1\n",
    "    currentItr = 1\n",
    "    x1 = np.zeros_like(x0)\n",
    "    while (difference > tol) and (currentItr<maxiter):\n",
    "        #need to make a copy because change is in place, otherwise cannot measure error\n",
    "        temp = np.copy(x0)\n",
    "        for i in range(n):\n",
    "            x1[i] = x0[i] + (b[i] - np.dot(A[i,:],x0))/A[i,i]\n",
    "        difference = la.norm(x1 - temp, np.inf)\n",
    "        x0 = x1             \n",
    "    return x0                       \n",
    "                             \n",
    "A = diag_dom(5)\n",
    "b = np.ones(5)\n",
    "\n",
    "np.allclose(A@sparce_gauss(A, b, 1e-6, 1000), b)\n",
    "                             \n",
    "                \n",
    "                             \n",
    "                             \n",
    "                \n",
    "                    "
   ]
  },
  {
   "cell_type": "markdown",
   "metadata": {},
   "source": [
    "# Exercise 5"
   ]
  },
  {
   "cell_type": "code",
   "execution_count": 61,
   "metadata": {},
   "outputs": [
    {
     "data": {
      "image/png": "[encoded data removed]",
      "text/plain": [
       "<matplotlib.figure.Figure at 0x60e681198>"
      ]
     },
     "metadata": {},
     "output_type": "display_data"
    },
    {
     "data": {
      "text/plain": [
       "True"
      ]
     },
     "execution_count": 61,
     "metadata": {},
     "output_type": "execute_result"
    }
   ],
   "source": [
    "def SOR(A, b, tol, maxiter, omega, plot = False):\n",
    "    m, n = A.shape\n",
    "    D = np.diag(A)\n",
    "    x0 = b/D\n",
    "    error_vec = []\n",
    "    difference = tol + 1\n",
    "    currentItr = 1\n",
    "    x1 = np.zeros_like(x0)\n",
    "    while (difference > tol) and (currentItr<maxiter):\n",
    "        #need to make a copy because change is in place, otherwise cannot measure error\n",
    "        temp = np.copy(x0)\n",
    "        for i in range(n):\n",
    "            x1[i] = x0[i] + (b[i] - np.dot(A[i,:],x0))/A[i,i]*omega\n",
    "        difference = la.norm(x1 - temp, np.inf)\n",
    "        error_vec.append(difference)\n",
    "        x0 = x1\n",
    "    if plot:\n",
    "        plt.plot(error_vec)\n",
    "        title = \"Convergence of SOR, w = \" + str(omega)\n",
    "        plt.title(title)\n",
    "        plt.xlabel(\"# of iterations\")\n",
    "        plt.ylabel(\"Absolute error of approximation\")\n",
    "        plt.show()\n",
    "    return x0, currentItr\n",
    "\n",
    "A = diag_dom(500)\n",
    "b = np.ones(500)\n",
    "res = SOR(A, b, 1e-8, 1000, 1.5, True)        \n",
    "np.allclose(A@res[0], b)"
   ]
  },
  {
   "cell_type": "markdown",
   "metadata": {},
   "source": [
    "# Exercise 7"
   ]
  },
  {
   "cell_type": "code",
   "execution_count": 64,
   "metadata": {},
   "outputs": [],
   "source": [
    "# change the value of omega\n",
    "omega = np.linspace(1, 1.95, 20)"
   ]
  },
  {
   "cell_type": "code",
   "execution_count": 65,
   "metadata": {},
   "outputs": [
    {
     "data": {
      "text/plain": [
       "array([1.  , 1.05, 1.1 , 1.15, 1.2 , 1.25, 1.3 , 1.35, 1.4 , 1.45, 1.5 ,\n",
       "       1.55, 1.6 , 1.65, 1.7 , 1.75, 1.8 , 1.85, 1.9 , 1.95])"
      ]
     },
     "execution_count": 65,
     "metadata": {},
     "output_type": "execute_result"
    }
   ],
   "source": [
    "omega"
   ]
  },
  {
   "cell_type": "code",
   "execution_count": 72,
   "metadata": {},
   "outputs": [
    {
     "name": "stdout",
     "output_type": "stream",
     "text": [
      "0\n",
      "1\n",
      "2\n",
      "3\n",
      "4\n",
      "5\n",
      "6\n",
      "7\n",
      "8\n"
     ]
    },
    {
     "data": {
      "text/plain": [
       "[<matplotlib.lines.Line2D at 0x60e54d160>]"
      ]
     },
     "execution_count": 72,
     "metadata": {},
     "output_type": "execute_result"
    },
    {
     "data": {
      "image/png": "[encoded data removed]",
      "text/plain": [
       "<matplotlib.figure.Figure at 0x60f06a940>"
      ]
     },
     "metadata": {},
     "output_type": "display_data"
    }
   ],
   "source": [
    "A = diag_dom(100)\n",
    "b = np.ones(100)\n",
    "iters = np.zeros(20)\n",
    "for i in range(9):\n",
    "    print(i)\n",
    "    iters[i] = SOR(A, b, 1e-8, 1000, omega[i], False)[1]\n",
    "plt.plot(iters)"
   ]
  },
  {
   "cell_type": "code",
   "execution_count": null,
   "metadata": {},
   "outputs": [],
   "source": [
    "\n"
   ]
  }
 ],
 "metadata": {
  "kernelspec": {
   "display_name": "Python 3",
   "language": "python",
   "name": "python3"
  },
  "language_info": {
   "codemirror_mode": {
    "name": "ipython",
    "version": 3
   },
   "file_extension": ".py",
   "mimetype": "text/x-python",
   "name": "python",
   "nbconvert_exporter": "python",
   "pygments_lexer": "ipython3",
   "version": "3.6.4"
  }
 },
 "nbformat": 4,
 "nbformat_minor": 2
}
