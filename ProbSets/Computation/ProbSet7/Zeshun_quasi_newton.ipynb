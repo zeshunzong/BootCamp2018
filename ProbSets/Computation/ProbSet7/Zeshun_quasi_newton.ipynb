{
 "cells": [
  {
   "cell_type": "markdown",
   "metadata": {},
   "source": [
    "# Problem 1"
   ]
  },
  {
   "cell_type": "code",
   "execution_count": 1,
   "metadata": {},
   "outputs": [
    {
     "data": {
      "text/plain": [
       "(array([1., 1.]), 5)"
      ]
     },
     "execution_count": 1,
     "metadata": {},
     "output_type": "execute_result"
    }
   ],
   "source": [
    "import numpy as np\n",
    "import numpy.linalg as la\n",
    "import scipy.optimize as opt\n",
    "\n",
    "def ndNewton(Df, D2f, init_point, maxiter, tol):\n",
    "    \n",
    "    crit = tol + 1\n",
    "    k = 0\n",
    "    x0 = init_point\n",
    "    x1 = np.zeros_like(x0) #initialize x1\n",
    "    while (k<maxiter) and (crit > tol):\n",
    "        \n",
    "        #solve for D2f(xk) * zk = Df(xk).T\n",
    "        z = la.solve(D2f(x0), Df(x0))\n",
    "        x1 = x0 - z\n",
    "        crit = la.norm(Df(x1), ord = np.inf)\n",
    "        x0 = x1\n",
    "        \n",
    "        k += 1\n",
    "        \n",
    "    return x0, k\n",
    "\n",
    "#test with rosen function\n",
    "f = opt.rosen\n",
    "df = opt.rosen_der\n",
    "d2f = opt.rosen_hess\n",
    "ndNewton(df, d2f, np.array([2,2]), 50, 1e-6)\n",
    "    "
   ]
  },
  {
   "cell_type": "markdown",
   "metadata": {},
   "source": [
    "Observe that the result is the same as the analytical result."
   ]
  },
  {
   "cell_type": "markdown",
   "metadata": {},
   "source": [
    "# Problem 2 "
   ]
  },
  {
   "cell_type": "code",
   "execution_count": 2,
   "metadata": {},
   "outputs": [
    {
     "data": {
      "text/plain": [
       "(array([1.00000002, 1.00000004]), True, 141)"
      ]
     },
     "execution_count": 2,
     "metadata": {},
     "output_type": "execute_result"
    }
   ],
   "source": [
    "def bfgs(Df, starting_point, maxiter, tol):\n",
    "    x0 = starting_point\n",
    "    n = len(x0)\n",
    "    A0_m1 = np.eye(n)\n",
    "    crit = tol + 1\n",
    "    k = 0\n",
    "    while (k<maxiter) and (crit > tol):\n",
    "\n",
    "        #sk = - np.dot(A0_m1, Df(x0))\n",
    "        x1 = x0 - np.dot(A0_m1, Df(x0))\n",
    "        sk = x1 - x0\n",
    "\n",
    "        yk = Df(x1).T - Df(x0).T\n",
    "     \n",
    "        #avoid division by zero\n",
    "        if (np.dot(sk, yk))**2 == 0: return x0, False, maxiter\n",
    "        \n",
    "        temp1 = A0_m1 + (np.dot(sk, yk) + np.dot(yk, np.dot(A0_m1, yk))) / (np.dot(sk, yk)**2) * np.outer(sk, sk)\n",
    "        temp2 = 1/np.dot(sk, yk) * (np.dot(A0_m1, np.outer(yk, sk)) + np.outer(sk, yk) @ A0_m1)\n",
    "        A0_m1 = temp1 - temp2\n",
    "        \n",
    "        crit = la.norm(Df(x1), ord = np.inf)\n",
    "        x0 = x1\n",
    "        k+=1\n",
    "    \n",
    "\n",
    "    if crit >= tol:\n",
    "        conv = False\n",
    "    else:\n",
    "        conv = True\n",
    "    #print(conv)\n",
    "    \n",
    "    return x0, conv, k\n",
    "\n",
    "f = opt.rosen\n",
    "df = opt.rosen_der\n",
    "d2f = opt.rosen_hess\n",
    "bfgs(df, np.array([-2,-4]), 400, 1e-6)"
   ]
  },
  {
   "cell_type": "markdown",
   "metadata": {},
   "source": [
    "Observe that the result is the same as the analytical result."
   ]
  },
  {
   "cell_type": "markdown",
   "metadata": {},
   "source": [
    "# Problem 3"
   ]
  },
  {
   "cell_type": "code",
   "execution_count": 3,
   "metadata": {},
   "outputs": [],
   "source": [
    "import time\n",
    "import matplotlib.pyplot as plt\n",
    "def p3(N):\n",
    "    \n",
    "    newton_time = np.zeros(N)\n",
    "    dfgs_time = np.zeros(N)\n",
    "    scipy_time = np.zeros(N)\n",
    "    \n",
    "    newton_itr = np.zeros(N)\n",
    "    dfgs_itr = np.zeros(N)\n",
    "    scipy_itr = np.zeros(N)\n",
    "    \n",
    "    for i in range(N):\n",
    "        x, y = np.random.uniform(-3, 3, 2) # sample a point in [-3, 3] * [-3, 3]\n",
    "        \n",
    "        # perform newton method\n",
    "        start_time = time.time()\n",
    "        res, itr = ndNewton(df, d2f, np.array([x,y]), 50, 1e-6)\n",
    "        end_time = time.time()\n",
    "        \n",
    "        newton_time[i] = end_time - start_time\n",
    "        newton_itr[i] = itr\n",
    "        \n",
    "        # perform dfgs\n",
    "        start_time = time.time()\n",
    "        res, status, itr = bfgs(df, np.array([x,y]), 800, 1e-6)\n",
    "        end_time = time.time()\n",
    "        \n",
    "        dfgs_time[i] = end_time - start_time\n",
    "        dfgs_itr[i] = itr\n",
    "        \n",
    "        # perform scipy\n",
    "        start_time = time.time()\n",
    "        itr = len(opt.fmin_bfgs(f, [x,y], disp = False, retall = True, gtol = 1e-6)[1])\n",
    "        end_time = time.time()\n",
    "        \n",
    "        scipy_time[i] = end_time - start_time\n",
    "        scipy_itr[i] = itr\n",
    "    \n",
    "    plt.plot(newton_time, newton_itr, \"o\", markersize = 5, label=\"Newton's method\")\n",
    "    plt.plot(dfgs_time, dfgs_itr, \"o\", markersize = 5, label = \"BFGS\")\n",
    "    plt.plot(scipy_time, scipy_itr, \"o\", markersize = 5, label = \"scipy.optimize.fmin_bfgs()\")\n",
    "    plt.xscale('log')\n",
    "    plt.yscale(\"log\")\n",
    "    plt.xlabel(\"Time(Seconds)\")\n",
    "    plt.ylabel(\"Iterations\")\n",
    "    plt.title(\"Comparison of Newton's method, my dfgs, and scipy's dfgs\")\n",
    "    plt.legend(loc = \"upper left\")\n",
    "    plt.show()\n",
    "    \n",
    "    \n",
    "    \n",
    "  \n",
    "    "
   ]
  },
  {
   "cell_type": "code",
   "execution_count": 4,
   "metadata": {},
   "outputs": [
    {
     "data": {
      "image/png": "[encoded data removed]",
      "text/plain": [
       "<matplotlib.figure.Figure at 0x10cfd8e10>"
      ]
     },
     "metadata": {},
     "output_type": "display_data"
    }
   ],
   "source": [
    "p3(100)"
   ]
  },
  {
   "cell_type": "markdown",
   "metadata": {},
   "source": [
    "# Problem 4 "
   ]
  },
  {
   "cell_type": "code",
   "execution_count": 7,
   "metadata": {},
   "outputs": [],
   "source": [
    "# let us fix the perturbation\n",
    "pert = np.random.randn(10)"
   ]
  },
  {
   "cell_type": "code",
   "execution_count": 10,
   "metadata": {},
   "outputs": [
    {
     "data": {
      "text/plain": [
       "(3.1123456197229933, 6.785727794304953)"
      ]
     },
     "execution_count": 10,
     "metadata": {},
     "output_type": "execute_result"
    }
   ],
   "source": [
    "def minLeastSq(phi, Dphi, residual, Jacobian, starting_point, maxiter, tol):\n",
    "    x0 = starting_point\n",
    "    k = 0\n",
    "    crit = tol + 1\n",
    "    \n",
    "    while (k < maxiter) and (crit > tol):\n",
    "        x1 = x0 - la.inv((Jacobian(x0).T @ Jacobian(x0))) @ (Jacobian(x0).T @ residual(x0))\n",
    "        crit = la.norm(x1 - x0, ord = np.inf)\n",
    "        x0 = x1\n",
    "        \n",
    "        k += 1\n",
    "        \n",
    "    \n",
    "    if crit <= tol:\n",
    "        conv = True\n",
    "    else:\n",
    "        conv = False\n",
    "        \n",
    "    return x0, k, conv\n",
    "\n",
    "T = np.arange(10)\n",
    "y = 3*np.sin(0.5*T) + 0.5 * pert\n",
    "phi = lambda x, t : x[0]*np.sin(x[1]*t)\n",
    "residual = lambda x : phi(x, T) - y\n",
    "jac = lambda x: np.column_stack((np.sin(x[1]*T), x[0]*T*np.cos(x[1]*T)))\n",
    "\n",
    "\n",
    "soln1 = minLeastSq(phi, 2, residual, jac, [2.5, 7], 100, 1e-12)\n",
    "amplitude, period = soln1[0]\n",
    "amplitude, period   "
   ]
  },
  {
   "cell_type": "code",
   "execution_count": 19,
   "metadata": {},
   "outputs": [
    {
     "data": {
      "text/plain": [
       "(array([3.11234616, 0.50254231]), 1)"
      ]
     },
     "execution_count": 19,
     "metadata": {},
     "output_type": "execute_result"
    }
   ],
   "source": [
    "def array_of_res(param):\n",
    "    T = np.arange(10)\n",
    "    truth = 3*np.sin(0.5*T) + 0.5 * pert\n",
    "    A = param[0]\n",
    "    w = param[1]\n",
    "    model = A * np.sin(w*T)\n",
    "    res = model - truth\n",
    "    return res\n",
    "\n",
    "soln2 = opt.leastsq(array_of_res, np.array([3, 0.5]))\n",
    "soln2"
   ]
  },
  {
   "cell_type": "code",
   "execution_count": 22,
   "metadata": {},
   "outputs": [
    {
     "data": {
      "image/png": "[encoded data removed]",
      "text/plain": [
       "<matplotlib.figure.Figure at 0x1182e9940>"
      ]
     },
     "metadata": {},
     "output_type": "display_data"
    }
   ],
   "source": [
    "plt.plot(T, y, \"*\", label = \"True data\")\n",
    "plt.plot(T, amplitude*np.sin(period*T), label = \"My leastsq estimate\")\n",
    "plt.plot(T, soln2[0][0]*np.sin(soln2[0][1]*T), label = \"Scipy's leastsq\")\n",
    "plt.legend()\n",
    "plt.show()"
   ]
  },
  {
   "cell_type": "markdown",
   "metadata": {},
   "source": [
    "Observe that the two results match exactly."
   ]
  },
  {
   "cell_type": "code",
   "execution_count": null,
   "metadata": {},
   "outputs": [],
   "source": []
  },
  {
   "cell_type": "code",
   "execution_count": null,
   "metadata": {},
   "outputs": [],
   "source": []
  },
  {
   "cell_type": "code",
   "execution_count": null,
   "metadata": {},
   "outputs": [],
   "source": []
  },
  {
   "cell_type": "code",
   "execution_count": null,
   "metadata": {},
   "outputs": [],
   "source": []
  }
 ],
 "metadata": {
  "kernelspec": {
   "display_name": "Python 3",
   "language": "python",
   "name": "python3"
  },
  "language_info": {
   "codemirror_mode": {
    "name": "ipython",
    "version": 3
   },
   "file_extension": ".py",
   "mimetype": "text/x-python",
   "name": "python",
   "nbconvert_exporter": "python",
   "pygments_lexer": "ipython3",
   "version": "3.6.4"
  }
 },
 "nbformat": 4,
 "nbformat_minor": 2
}
