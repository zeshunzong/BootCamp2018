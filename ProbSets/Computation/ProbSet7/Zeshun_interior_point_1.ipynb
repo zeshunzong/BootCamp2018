{
 "cells": [
  {
   "cell_type": "code",
   "execution_count": 1,
   "metadata": {},
   "outputs": [],
   "source": [
    "import numpy as np\n",
    "def interiorPoint(A, b, c, niter = 20, tol=1e-16):\n",
    "    m,n = A.shape\n",
    "    \n",
    "    #Problem 1\n",
    "    def getF(x, lamb, mu):\n",
    "        res1 = A.T @ lamb + mu - c\n",
    "        res2 = A @ x - b\n",
    "        res3 = mu * x\n",
    "        \n",
    "        return np.hstack((res1, res2, res3))\n",
    "    \n",
    "    #Problem 2\n",
    "    def get_direction(A, x, lamb, mu):\n",
    "        row1 = np.hstack((np.zeros((n, n)) ,A.T, np.eye(n)))\n",
    "        row2 = np.hstack((A, np.zeros((m, m)), np.zeros(m, n)))\n",
    "        row3 = np.hstack((np.diag(mu), np.zeros((n, m+n))))\n",
    "        Df = np.vstack((row1, row2, row3))\n",
    "        \n",
    "        return Df\n",
    "    \n",
    "    A = np.array([1,2])\n",
    "    x = np.array\n",
    "    get_direction()\n",
    "        "
   ]
  },
  {
   "cell_type": "code",
   "execution_count": 8,
   "metadata": {},
   "outputs": [
    {
     "data": {
      "text/plain": [
       "array([1, 2, 1, 2])"
      ]
     },
     "execution_count": 8,
     "metadata": {},
     "output_type": "execute_result"
    }
   ],
   "source": [
    "r1 = np.array([1,2])\n",
    "\n",
    "r2 = np.array([1,2])\n",
    "\n",
    "np.hstack((r1, r2))"
   ]
  },
  {
   "cell_type": "code",
   "execution_count": null,
   "metadata": {},
   "outputs": [],
   "source": []
  }
 ],
 "metadata": {
  "kernelspec": {
   "display_name": "Python 3",
   "language": "python",
   "name": "python3"
  },
  "language_info": {
   "codemirror_mode": {
    "name": "ipython",
    "version": 3
   },
   "file_extension": ".py",
   "mimetype": "text/x-python",
   "name": "python",
   "nbconvert_exporter": "python",
   "pygments_lexer": "ipython3",
   "version": "3.6.4"
  }
 },
 "nbformat": 4,
 "nbformat_minor": 2
}
