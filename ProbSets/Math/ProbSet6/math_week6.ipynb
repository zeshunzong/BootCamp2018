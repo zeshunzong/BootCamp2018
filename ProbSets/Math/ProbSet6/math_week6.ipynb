{
 "cells": [
  {
   "cell_type": "markdown",
   "metadata": {},
   "source": [
    "Cooperated with Shirley\n",
    "# Problem 6"
   ]
  },
  {
   "cell_type": "code",
   "execution_count": 2,
   "metadata": {},
   "outputs": [],
   "source": [
    "import numpy as np\n",
    "import scipy.optimize as opt"
   ]
  },
  {
   "cell_type": "code",
   "execution_count": 13,
   "metadata": {},
   "outputs": [],
   "source": [
    "def steep_descent(x0, Q, b, c, tol, maxIters=5000):\n",
    "    count = 1\n",
    "    dist = 10\n",
    "    xk = x0\n",
    "    while count < maxIters and dist > tol:\n",
    "       # xk = x0\n",
    "        DfT = Q @ xk - b\n",
    "        Df = DfT.T\n",
    "        alphak = (Df @ DfT) / (Df @ Q @ DfT)\n",
    "        xk_1 = xk - alphak * DfT\n",
    "        dist = np.linalg.norm(Df)\n",
    "        xk = xk_1\n",
    "        count += 1\n",
    "        \n",
    "    return xk"
   ]
  },
  {
   "cell_type": "code",
   "execution_count": 14,
   "metadata": {},
   "outputs": [],
   "source": [
    "Q = np.array([[3, 1], [1, 1]])\n",
    "b = np.array([1, 6])\n",
    "c = 2\n",
    "x0 = np.array([0, 2])"
   ]
  },
  {
   "cell_type": "code",
   "execution_count": 15,
   "metadata": {},
   "outputs": [
    {
     "data": {
      "text/plain": [
       "array([-2.49999943,  8.49999852])"
      ]
     },
     "execution_count": 15,
     "metadata": {},
     "output_type": "execute_result"
    }
   ],
   "source": [
    "steep_descent(x0, Q, b, c, 1e-5)"
   ]
  },
  {
   "cell_type": "markdown",
   "metadata": {},
   "source": [
    "# Problem 7"
   ]
  },
  {
   "cell_type": "code",
   "execution_count": 34,
   "metadata": {},
   "outputs": [],
   "source": [
    "def Df(f, x, Rerr):\n",
    "    \n",
    "    h = np.sqrt(Rerr)\n",
    "    e = np.zeros_like(x)\n",
    "    Df = np.zeros_like(x)\n",
    "    for i in range(len(x)):\n",
    "        e = np.eye(len(x))[:,i]\n",
    "        Df[i] = (f(x + h * e) - f(x)) / (h)\n",
    "    return Df\n",
    "        "
   ]
  },
  {
   "cell_type": "markdown",
   "metadata": {},
   "source": [
    "# Problem 8"
   ]
  },
  {
   "cell_type": "code",
   "execution_count": 37,
   "metadata": {},
   "outputs": [],
   "source": [
    "def secant( x, x1, eps, f_prime):\n",
    "    count = 1\n",
    "    xkm1 = x\n",
    "    xk = x1\n",
    "    converge = False\n",
    "    while count < 10000 and converge == False: \n",
    "        xk1 = xk - f_prime(xk) * ((xk - xkm1) / (f_prime(xk) - f_prime(xkm1)))                      \n",
    "        if np.abs(xk1 - xk) < np.abs(xk) * eps:\n",
    "            converge = True\n",
    "        else: \n",
    "            converge = False\n",
    "        xkm1 = xk\n",
    "        xk = xk1\n",
    "        count += 1\n",
    "    \n",
    "    return xk1"
   ]
  },
  {
   "cell_type": "code",
   "execution_count": 38,
   "metadata": {},
   "outputs": [],
   "source": [
    "def steepest(f, x, eps):\n",
    "    count = 1\n",
    "    error = 10\n",
    "    xk = x\n",
    "    while error > eps and it < 10000:\n",
    "        Dfxk = Df(f, xk, eps)\n",
    "        f_prime = lambda x: Df(f, xk - x * Dfxk.T, eps) @ (-1 * Dfxk.T)\n",
    "        xkp1 = xk - Dfxk * secant(.8, .2, eps, f_prime)\n",
    "        error = np.linalg.norm(Dfxk)\n",
    "        xk = xkp1\n",
    "        count += 1\n",
    "    \n",
    "    return xk, error"
   ]
  }
 ],
 "metadata": {
  "kernelspec": {
   "display_name": "Python 3",
   "language": "python",
   "name": "python3"
  },
  "language_info": {
   "codemirror_mode": {
    "name": "ipython",
    "version": 3
   },
   "file_extension": ".py",
   "mimetype": "text/x-python",
   "name": "python",
   "nbconvert_exporter": "python",
   "pygments_lexer": "ipython3",
   "version": "3.6.4"
  }
 },
 "nbformat": 4,
 "nbformat_minor": 2
}
